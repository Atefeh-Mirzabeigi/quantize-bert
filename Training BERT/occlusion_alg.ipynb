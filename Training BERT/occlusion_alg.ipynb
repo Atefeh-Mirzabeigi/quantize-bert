{
 "cells": [
  {
   "cell_type": "code",
   "execution_count": null,
   "metadata": {},
   "outputs": [],
   "source": [
    "import matplotlib.pyplot as plt\n",
    "import seaborn as sns\n",
    "import torch\n",
    "from transformers import BertTokenizer, BertForSequenceClassification\n",
    "from tqdm import tqdm"
   ]
  },
  {
   "cell_type": "markdown",
   "metadata": {},
   "source": [
    "# Most influential single words"
   ]
  },
  {
   "cell_type": "code",
   "execution_count": 26,
   "metadata": {},
   "outputs": [
    {
     "name": "stdout",
     "output_type": "stream",
     "text": [
      "Predicted bias: left\n",
      "Confidence: 99.87%\n",
      "Top 10 influential words and their impacts:\n",
      "[SEP]: 0.5968\n",
      "highlights: 0.2041\n",
      "story: 0.1858\n",
      "obama: 0.0310\n",
      "what: 0.0192\n",
      "of: 0.0177\n",
      "sexual: 0.0175\n",
      "commissioned: 0.0132\n",
      "fighting: 0.0117\n",
      "figures: 0.0111\n"
     ]
    }
   ],
   "source": [
    "def load_model(model_path):\n",
    "    model = BertForSequenceClassification.from_pretrained(model_path)\n",
    "    tokenizer = BertTokenizer.from_pretrained(model_path)\n",
    "    return model, tokenizer\n",
    "\n",
    "def predict_bias(model, tokenizer, article):\n",
    "    inputs = tokenizer(article, return_tensors=\"pt\", truncation=True, padding=True, max_length=512)\n",
    "    model.eval()\n",
    "    with torch.no_grad():\n",
    "        outputs = model(**inputs)\n",
    "        probabilities = torch.nn.functional.softmax(outputs.logits, dim=-1)\n",
    "        max_prob, predicted_idx = probabilities[0].max(dim=0)\n",
    "        labels = ['left', 'center', 'right']\n",
    "        predicted_bias = labels[predicted_idx.item()]\n",
    "        confidence = max_prob.item()*100\n",
    "        print(f'Predicted bias: {predicted_bias}\\nConfidence: {confidence:.2f}%')\n",
    "    return predicted_idx\n",
    "\n",
    "def erasure_method(model, tokenizer, article):\n",
    "    inputs = tokenizer(article, return_tensors=\"pt\", truncation=True, padding=True, max_length=512)\n",
    "    original_idx = predict_bias(model, tokenizer, article)\n",
    "    original_outputs = model(**inputs).logits[0, original_idx].item()\n",
    "    \n",
    "    def measure_importance(token_idx):\n",
    "        altered_input = inputs.input_ids.clone()\n",
    "        altered_input[0, token_idx] = tokenizer.unk_token_id\n",
    "        with torch.no_grad():\n",
    "            logits = model(input_ids=altered_input).logits\n",
    "        return original_outputs - logits[0, original_idx].item()\n",
    "    \n",
    "    importances = [measure_importance(i) for i in range(inputs.input_ids.size(1))]\n",
    "    sorted_indices = sorted(range(len(importances)), key=lambda i: importances[i], reverse=True)[:10]\n",
    "    influential_words = [(tokenizer.decode([inputs.input_ids[0, idx]]), importances[idx]) for idx in sorted_indices]\n",
    "\n",
    "    print(\"Top 10 influential words and their impacts:\")\n",
    "    for word, impact in influential_words:\n",
    "        print(f\"{word}: {impact:.4f}\")\n",
    "\n",
    "model_path = \"article_bias_classifier\"\n",
    "model, tokenizer = load_model(model_path)\n",
    "\n",
    "content= \"Story highlights Obama says military assaults threaten what `` makes our military strong , ''\\nFigures show the rate of assaults in the armed forces is increasing\\nA number of officers at bases across the country are under investigation\\nA rash of sexual assaults in the armed forces undermines Americans ' confidence in the military , President Barack Obama told newly commissioned officers at the U.S . Naval Academy Friday .\\n`` Those who commit sexual assault are not only committing a crime , they threaten the trust and discipline that makes our military strong , '' Obama told the graduates , who were commissioned as Naval ensigns and Marine Corps second lieutenants .\\n`` That 's why we have to be determined to stop these crimes . Because they have no place in the greatest military on Earth , '' Obama continued .\\nThe president 's remarks came amid mounting outrage over sexual abuse cases in the armed forces . Figures show the rate of assaults in the armed forced increasing , and some top officers are under fire for condoning such acts .\\nAt least two officers responsible for preventing sexual assault are under investigation for allegedly committing the types of act they were tasked with stopping .\\nJUST WATCHED Fighting abuse in U.S. military ranks Replay More Videos ... MUST WATCH Fighting abuse in U.S. military ranks 09:08\\nJUST WATCHED Did sergeant film female cadets ? Replay More Videos ... MUST WATCH Did sergeant film female cadets ? 01:43\\nJUST WATCHED Confronting military sexual assault Replay More Videos ... MUST WATCH Confronting military sexual assault 02:15\\nThose factors have led to calls for major changes in how the armed forces handle sexual assaults . Obama has demanded his top military brass `` leave no stone overturned '' in their quest to prevent abuse , and members of Congress have introduced legislation that would make it easier for victims to get justice .\\nIn his commencement address Friday , Obama characterized the U.S. military as one of the few institutions Americans still trust , but said incidents like sexual assaults , as well as other delinquency by servicemen in the field , could erode that faith .\\n`` Even in our military , we 've seen how the misconduct of some can have effects that ripple far and wide . In our digital age , a single image from the battlefield of troops falling short of their standards can go viral and endanger our forces and undermine our efforts to achieve security and peace , '' Obama told the Naval Academy graduates , 206 of whom were women .\\nEarlier this month , the Department of Defense released figures estimating 26,000 cases of unwanted sexual contact occurred in 2012 , a 35 % jump from 2010 . Those cases ranged from groping to rape .\\nThe vast majority of those incidents went unreported as crimes , the study showed .\\nMeanwhile , officers at bases across the country are under investigation for allegedly committing sexual assaults .\\nAn Army sergeant first class assigned to the sexual assault prevention unit at Fort Hood , Texas , came under investigation in early May for alleged sexual assault , pandering , abusive sexual contact and maltreatment of subordinates . The military said he 's been relieved of duty while investigators look in to the allegations .\\nAlso in May , an Air Force officer who managed an assault prevention unit was charged with sexual battery and removed from duty . He is accused of grabbing a woman and groping her buttocks and breasts in an Arlington County parking lot not far from his Washington office .\\nAnd this week , the Army said it had suspended Brig . Gen. Bryan Roberts , the top general at Fort Jackson in South Carolina , due to allegations of adultery and assault .\\nFort Jackson is where most new Army recruits go through basic training , which includes training about sexual assault prevention .\\nThe president traditionally delivers the commencement address at one of the military service academies every year . In 2012 he spoke at the Air Force Academy in Colorado Springs . The last time he delivered the commencement in Annapolis was 2009 .\\nVice President Joe Biden spoke last weekend at the Coast Guard Academy in Connecticut . Defense Secretary Chuck Hagel will speak Saturday at the U.S. Military Academy at West Point , and also will address sexual assaults , according to a U.S. official .\\nObama 's remarks came the day after a much-anticipated speech in which the president spelled out a new phase of America 's war on terror . He told the new officers Friday they are entering a military vastly changed from four years ago .\\n`` Just as you have changed in the past four years , so too have the challenges facing our military , '' he said , noting the wars in Iraq and Afghanistan were still being engaged when Friday 's graduates entered the academy .\\n`` Even as we move beyond deploying our large ground armies abroad , we need to conduct precise targeted strikes against terrorists before they kill our citizens , '' Obama said . `` Even as we stay vigilant in the face of terrorism , and stay true to our Constitution and values , we need to stay ready for the full range of threats . ''\"\n",
    "erasure_method(model, tokenizer, content)\n"
   ]
  },
  {
   "cell_type": "markdown",
   "metadata": {},
   "source": [
    "----------------------------"
   ]
  },
  {
   "cell_type": "markdown",
   "metadata": {},
   "source": [
    "# Most influential n-words"
   ]
  },
  {
   "cell_type": "code",
   "execution_count": 13,
   "metadata": {},
   "outputs": [
    {
     "name": "stdout",
     "output_type": "stream",
     "text": [
      "Predicted bias: left\n",
      "Confidence: 99.87%\n"
     ]
    },
    {
     "name": "stderr",
     "output_type": "stream",
     "text": [
      "100%|██████████| 510/510 [00:48<00:00, 10.55it/s]"
     ]
    },
    {
     "name": "stdout",
     "output_type": "stream",
     "text": [
      "Top 10 influential 3-word groups and their impacts:\n",
      "2012, [SEP]: 0.5409\n",
      "[CLS] story highlights: 0.2609\n",
      "highlights obama says: 0.1694\n",
      "story highlights obama: 0.1667\n",
      "of sexual assaults: 0.0382\n",
      "obama says military: 0.0357\n",
      "far and wide: 0.0267\n",
      "lieutenants.: 0.0256\n",
      "newly commissioned officers: 0.0202\n",
      "sexual assaults in: 0.0185\n"
     ]
    },
    {
     "name": "stderr",
     "output_type": "stream",
     "text": [
      "\n"
     ]
    }
   ],
   "source": [
    "def load_model(model_path):\n",
    "    model = BertForSequenceClassification.from_pretrained(model_path)\n",
    "    tokenizer = BertTokenizer.from_pretrained(model_path)\n",
    "    \n",
    "    device = torch.device(\"cuda\" if torch.cuda.is_available() else \"cpu\")\n",
    "    model = model.to(device)\n",
    "    return model, tokenizer, device\n",
    "\n",
    "def predict_bias(model, tokenizer, device, article):\n",
    "    inputs = tokenizer(article, return_tensors=\"pt\", truncation=True, padding=True, max_length=512)\n",
    "    inputs = inputs.to(device)\n",
    "    model.eval()\n",
    "    with torch.no_grad():\n",
    "        outputs = model(**inputs)\n",
    "        probabilities = torch.nn.functional.softmax(outputs.logits, dim=-1)\n",
    "        max_prob, predicted_idx = probabilities[0].max(dim=0)\n",
    "        labels = ['left', 'center', 'right']\n",
    "        predicted_bias = labels[predicted_idx.item()]\n",
    "        confidence = max_prob.item()*100\n",
    "        print(f'Predicted bias: {predicted_bias}\\nConfidence: {confidence:.2f}%')\n",
    "    return predicted_idx\n",
    "\n",
    "def erasure_method(model, tokenizer, device, article, n_grams):\n",
    "    inputs = tokenizer(article, return_tensors=\"pt\", truncation=True, padding=True, max_length=512)\n",
    "    inputs = inputs.to(device)\n",
    "    original_idx = predict_bias(model, tokenizer, device, article)\n",
    "    original_outputs = model(**inputs).logits[0, original_idx].item()\n",
    "    \n",
    "    def measure_importance(token_idx):\n",
    "        if token_idx <= inputs.input_ids.size(1) - n_grams:\n",
    "            altered_input = inputs.input_ids.clone()\n",
    "            # Replace the tokens in the n-gram with the unknown tok\n",
    "            for i in range(n_grams):\n",
    "                altered_input[0, token_idx + i] = tokenizer.unk_token_id\n",
    "            altered_input = altered_input.to(device)\n",
    "            with torch.no_grad():\n",
    "                logits = model(input_ids=altered_input).logits\n",
    "            return original_outputs - logits[0, original_idx].item()\n",
    "        return 0\n",
    "\n",
    "    importances = []\n",
    "    for i in tqdm(range(inputs.input_ids.size(1) - n_grams + 1)):\n",
    "        importance = measure_importance(i)\n",
    "        importances.append(importance)\n",
    "\n",
    "    sorted_indices = sorted(range(len(importances)), key=lambda i: importances[i], reverse=True)[:10]\n",
    "    influential_word_groups = [(tokenizer.decode(inputs.input_ids[0, idx:idx + n_grams]), importances[idx]) for idx in sorted_indices if importances[idx] > 0]\n",
    "\n",
    "    print(f\"Top 10 influential {n_grams}-word groups and their impacts:\")\n",
    "    for word_group, impact in influential_word_groups:\n",
    "        print(f\"{word_group}: {impact:.4f}\")\n",
    "\n",
    "model_path = \"article_bias_classifier\"\n",
    "model, tokenizer, device = load_model(model_path)\n",
    "\n",
    "content= \"Story highlights Obama says military assaults threaten what `` makes our military strong , ''\\nFigures show the rate of assaults in the armed forces is increasing\\nA number of officers at bases across the country are under investigation\\nA rash of sexual assaults in the armed forces undermines Americans ' confidence in the military , President Barack Obama told newly commissioned officers at the U.S . Naval Academy Friday .\\n`` Those who commit sexual assault are not only committing a crime , they threaten the trust and discipline that makes our military strong , '' Obama told the graduates , who were commissioned as Naval ensigns and Marine Corps second lieutenants .\\n`` That 's why we have to be determined to stop these crimes . Because they have no place in the greatest military on Earth , '' Obama continued .\\nThe president 's remarks came amid mounting outrage over sexual abuse cases in the armed forces . Figures show the rate of assaults in the armed forced increasing , and some top officers are under fire for condoning such acts .\\nAt least two officers responsible for preventing sexual assault are under investigation for allegedly committing the types of act they were tasked with stopping .\\nJUST WATCHED Fighting abuse in U.S. military ranks Replay More Videos ... MUST WATCH Fighting abuse in U.S. military ranks 09:08\\nJUST WATCHED Did sergeant film female cadets ? Replay More Videos ... MUST WATCH Did sergeant film female cadets ? 01:43\\nJUST WATCHED Confronting military sexual assault Replay More Videos ... MUST WATCH Confronting military sexual assault 02:15\\nThose factors have led to calls for major changes in how the armed forces handle sexual assaults . Obama has demanded his top military brass `` leave no stone overturned '' in their quest to prevent abuse , and members of Congress have introduced legislation that would make it easier for victims to get justice .\\nIn his commencement address Friday , Obama characterized the U.S. military as one of the few institutions Americans still trust , but said incidents like sexual assaults , as well as other delinquency by servicemen in the field , could erode that faith .\\n`` Even in our military , we 've seen how the misconduct of some can have effects that ripple far and wide . In our digital age , a single image from the battlefield of troops falling short of their standards can go viral and endanger our forces and undermine our efforts to achieve security and peace , '' Obama told the Naval Academy graduates , 206 of whom were women .\\nEarlier this month , the Department of Defense released figures estimating 26,000 cases of unwanted sexual contact occurred in 2012 , a 35 % jump from 2010 . Those cases ranged from groping to rape .\\nThe vast majority of those incidents went unreported as crimes , the study showed .\\nMeanwhile , officers at bases across the country are under investigation for allegedly committing sexual assaults .\\nAn Army sergeant first class assigned to the sexual assault prevention unit at Fort Hood , Texas , came under investigation in early May for alleged sexual assault , pandering , abusive sexual contact and maltreatment of subordinates . The military said he 's been relieved of duty while investigators look in to the allegations .\\nAlso in May , an Air Force officer who managed an assault prevention unit was charged with sexual battery and removed from duty . He is accused of grabbing a woman and groping her buttocks and breasts in an Arlington County parking lot not far from his Washington office .\\nAnd this week , the Army said it had suspended Brig . Gen. Bryan Roberts , the top general at Fort Jackson in South Carolina , due to allegations of adultery and assault .\\nFort Jackson is where most new Army recruits go through basic training , which includes training about sexual assault prevention .\\nThe president traditionally delivers the commencement address at one of the military service academies every year . In 2012 he spoke at the Air Force Academy in Colorado Springs . The last time he delivered the commencement in Annapolis was 2009 .\\nVice President Joe Biden spoke last weekend at the Coast Guard Academy in Connecticut . Defense Secretary Chuck Hagel will speak Saturday at the U.S. Military Academy at West Point , and also will address sexual assaults , according to a U.S. official .\\nObama 's remarks came the day after a much-anticipated speech in which the president spelled out a new phase of America 's war on terror . He told the new officers Friday they are entering a military vastly changed from four years ago .\\n`` Just as you have changed in the past four years , so too have the challenges facing our military , '' he said , noting the wars in Iraq and Afghanistan were still being engaged when Friday 's graduates entered the academy .\\n`` Even as we move beyond deploying our large ground armies abroad , we need to conduct precise targeted strikes against terrorists before they kill our citizens , '' Obama said . `` Even as we stay vigilant in the face of terrorism , and stay true to our Constitution and values , we need to stay ready for the full range of threats . ''\"\n",
    "erasure_method(model, tokenizer, device, content, n_grams=3)"
   ]
  },
  {
   "cell_type": "code",
   "execution_count": 1,
   "metadata": {},
   "outputs": [],
   "source": [
    "content= \"Story highlights Obama says military assaults threaten what `` makes our military strong , ''\\nFigures show the rate of assaults in the armed forces is increasing\\nA number of officers at bases across the country are under investigation\\nA rash of sexual assaults in the armed forces undermines Americans ' confidence in the military , President Barack Obama told newly commissioned officers at the U.S . Naval Academy Friday .\\n`` Those who commit sexual assault are not only committing a crime , they threaten the trust and discipline that makes our military strong , '' Obama told the graduates , who were commissioned as Naval ensigns and Marine Corps second lieutenants .\\n`` That 's why we have to be determined to stop these crimes . Because they have no place in the greatest military on Earth , '' Obama continued .\\nThe president 's remarks came amid mounting outrage over sexual abuse cases in the armed forces . Figures show the rate of assaults in the armed forced increasing , and some top officers are under fire for condoning such acts .\\nAt least two officers responsible for preventing sexual assault are under investigation for allegedly committing the types of act they were tasked with stopping .\\nJUST WATCHED Fighting abuse in U.S. military ranks Replay More Videos ... MUST WATCH Fighting abuse in U.S. military ranks 09:08\\nJUST WATCHED Did sergeant film female cadets ? Replay More Videos ... MUST WATCH Did sergeant film female cadets ? 01:43\\nJUST WATCHED Confronting military sexual assault Replay More Videos ... MUST WATCH Confronting military sexual assault 02:15\\nThose factors have led to calls for major changes in how the armed forces handle sexual assaults . Obama has demanded his top military brass `` leave no stone overturned '' in their quest to prevent abuse , and members of Congress have introduced legislation that would make it easier for victims to get justice .\\nIn his commencement address Friday , Obama characterized the U.S. military as one of the few institutions Americans still trust , but said incidents like sexual assaults , as well as other delinquency by servicemen in the field , could erode that faith .\\n`` Even in our military , we 've seen how the misconduct of some can have effects that ripple far and wide . In our digital age , a single image from the battlefield of troops falling short of their standards can go viral and endanger our forces and undermine our efforts to achieve security and peace , '' Obama told the Naval Academy graduates , 206 of whom were women .\\nEarlier this month , the Department of Defense released figures estimating 26,000 cases of unwanted sexual contact occurred in 2012 , a 35 % jump from 2010 . Those cases ranged from groping to rape .\\nThe vast majority of those incidents went unreported as crimes , the study showed .\\nMeanwhile , officers at bases across the country are under investigation for allegedly committing sexual assaults .\\nAn Army sergeant first class assigned to the sexual assault prevention unit at Fort Hood , Texas , came under investigation in early May for alleged sexual assault , pandering , abusive sexual contact and maltreatment of subordinates . The military said he 's been relieved of duty while investigators look in to the allegations .\\nAlso in May , an Air Force officer who managed an assault prevention unit was charged with sexual battery and removed from duty . He is accused of grabbing a woman and groping her buttocks and breasts in an Arlington County parking lot not far from his Washington office .\\nAnd this week , the Army said it had suspended Brig . Gen. Bryan Roberts , the top general at Fort Jackson in South Carolina , due to allegations of adultery and assault .\\nFort Jackson is where most new Army recruits go through basic training , which includes training about sexual assault prevention .\\nThe president traditionally delivers the commencement address at one of the military service academies every year . In 2012 he spoke at the Air Force Academy in Colorado Springs . The last time he delivered the commencement in Annapolis was 2009 .\\nVice President Joe Biden spoke last weekend at the Coast Guard Academy in Connecticut . Defense Secretary Chuck Hagel will speak Saturday at the U.S. Military Academy at West Point , and also will address sexual assaults , according to a U.S. official .\\nObama 's remarks came the day after a much-anticipated speech in which the president spelled out a new phase of America 's war on terror . He told the new officers Friday they are entering a military vastly changed from four years ago .\\n`` Just as you have changed in the past four years , so too have the challenges facing our military , '' he said , noting the wars in Iraq and Afghanistan were still being engaged when Friday 's graduates entered the academy .\\n`` Even as we move beyond deploying our large ground armies abroad , we need to conduct precise targeted strikes against terrorists before they kill our citizens , '' Obama said . `` Even as we stay vigilant in the face of terrorism , and stay true to our Constitution and values , we need to stay ready for the full range of threats . ''\""
   ]
  },
  {
   "cell_type": "markdown",
   "metadata": {},
   "source": [
    "-------------------------------"
   ]
  },
  {
   "cell_type": "markdown",
   "metadata": {},
   "source": [
    "# Without [CLS] and [SEP]"
   ]
  },
  {
   "cell_type": "code",
   "execution_count": 2,
   "metadata": {},
   "outputs": [
    {
     "name": "stderr",
     "output_type": "stream",
     "text": [
      "C:\\Users\\franc\\AppData\\Roaming\\Python\\Python310\\site-packages\\tqdm\\auto.py:21: TqdmWarning: IProgress not found. Please update jupyter and ipywidgets. See https://ipywidgets.readthedocs.io/en/stable/user_install.html\n",
      "  from .autonotebook import tqdm as notebook_tqdm\n"
     ]
    },
    {
     "name": "stdout",
     "output_type": "stream",
     "text": [
      "Predicted bias: left\n",
      "Confidence: 99.87%\n"
     ]
    },
    {
     "name": "stderr",
     "output_type": "stream",
     "text": [
      "100%|██████████| 508/508 [00:15<00:00, 33.08it/s]"
     ]
    },
    {
     "name": "stdout",
     "output_type": "stream",
     "text": [
      "Top 10 influential 5-word groups and their impacts:\n"
     ]
    },
    {
     "name": "stderr",
     "output_type": "stream",
     "text": [
      "\n"
     ]
    },
    {
     "data": {
      "text/plain": [
       "[('story highlights obama says military', 0.4547758102416992),\n",
       " ('highlights obama says military assaults', 0.10796594619750977),\n",
       " ('and wide. in our', 0.0677652359008789),\n",
       " ('lieutenants. ` `', 0.04876136779785156),\n",
       " ('obama says military assaults threaten', 0.04727458953857422),\n",
       " ('far and wide. in', 0.036286354064941406),\n",
       " ('academy friday. ` `', 0.033893585205078125),\n",
       " ('of officers at bases across', 0.029409408569335938)]"
      ]
     },
     "execution_count": 2,
     "metadata": {},
     "output_type": "execute_result"
    }
   ],
   "source": [
    "def load_model(model_path):\n",
    "    model = BertForSequenceClassification.from_pretrained(model_path)\n",
    "    tokenizer = BertTokenizer.from_pretrained(model_path)\n",
    "    \n",
    "    device = torch.device(\"cuda\" if torch.cuda.is_available() else \"cpu\")\n",
    "    model = model.to(device)\n",
    "    return model, tokenizer, device\n",
    "\n",
    "def predict_bias(model, tokenizer, device, article):\n",
    "    inputs = tokenizer(article, return_tensors=\"pt\", truncation=True, padding=True, max_length=512)\n",
    "    inputs = inputs.to(device)\n",
    "    model.eval()\n",
    "    with torch.no_grad():\n",
    "        outputs = model(**inputs)\n",
    "        probabilities = torch.nn.functional.softmax(outputs.logits, dim=-1)\n",
    "        max_prob, predicted_idx = probabilities[0].max(dim=0)\n",
    "        labels = ['left', 'center', 'right']\n",
    "        predicted_bias = labels[predicted_idx.item()]\n",
    "        confidence = max_prob.item()*100\n",
    "        print(f'Predicted bias: {predicted_bias}\\nConfidence: {confidence:.2f}%')\n",
    "    return predicted_idx\n",
    "\n",
    "def erasure_method(model, tokenizer, device, article, n_grams):\n",
    "    inputs = tokenizer(article, return_tensors=\"pt\", truncation=True, padding=True, max_length=512)\n",
    "    inputs = inputs.to(device)\n",
    "    original_idx = predict_bias(model, tokenizer, device, article)\n",
    "    original_outputs = model(**inputs).logits[0, original_idx].item()\n",
    "    \n",
    "    def measure_importance(token_idx):\n",
    "        if token_idx <= inputs.input_ids.size(1) - n_grams:\n",
    "            altered_input = inputs.input_ids.clone()\n",
    "            # Replace the tokens in the n-gram with the unknown tok\n",
    "            for i in range(n_grams):\n",
    "                altered_input[0, token_idx + i] = tokenizer.unk_token_id\n",
    "            altered_input = altered_input.to(device)\n",
    "            with torch.no_grad():\n",
    "                logits = model(input_ids=altered_input).logits\n",
    "            return original_outputs - logits[0, original_idx].item()\n",
    "        return 0\n",
    "\n",
    "    importances = []\n",
    "    for i in tqdm(range(inputs.input_ids.size(1) - n_grams + 1)):\n",
    "        importance = measure_importance(i)\n",
    "        importances.append(importance)\n",
    "\n",
    "    sorted_indices = sorted(range(len(importances)), key=lambda i: importances[i], reverse=True)[:10]\n",
    "    influential_word_groups = [(tokenizer.decode(inputs.input_ids[0, idx:idx + n_grams]), importances[idx]) for idx in sorted_indices if importances[idx] > 0 and \"[CLS]\" not in tokenizer.decode(inputs.input_ids[0, idx:idx + n_grams]) and \"[SEP]\" not in tokenizer.decode(inputs.input_ids[0, idx:idx + n_grams])]\n",
    "\n",
    "    print(f\"Top 10 influential {n_grams}-word groups and their impacts:\")\n",
    "\n",
    "    return influential_word_groups\n",
    "\n",
    "model_path = \"article_bias_classifier\"\n",
    "model, tokenizer, device = load_model(model_path)\n",
    "\n",
    "erasure_method(model, tokenizer, device, content, n_grams=5)"
   ]
  },
  {
   "cell_type": "markdown",
   "metadata": {},
   "source": [
    "----------------------------"
   ]
  },
  {
   "cell_type": "markdown",
   "metadata": {},
   "source": [
    "# Average over 25 randomly selected test articles"
   ]
  },
  {
   "cell_type": "code",
   "execution_count": 5,
   "metadata": {},
   "outputs": [
    {
     "name": "stdout",
     "output_type": "stream",
     "text": [
      "Total articles: 12000\n",
      "Number of sampled articles: 25\n",
      "Predicted bias: left\n",
      "Confidence: 99.63%\n"
     ]
    },
    {
     "name": "stderr",
     "output_type": "stream",
     "text": [
      "100%|██████████| 512/512 [00:15<00:00, 33.95it/s]\n"
     ]
    },
    {
     "name": "stdout",
     "output_type": "stream",
     "text": [
      "Top 10 influential 1-word groups and their impacts:\n",
      "Predicted bias: right\n",
      "Confidence: 99.45%\n"
     ]
    },
    {
     "name": "stderr",
     "output_type": "stream",
     "text": [
      "100%|██████████| 512/512 [00:15<00:00, 33.51it/s]\n"
     ]
    },
    {
     "name": "stdout",
     "output_type": "stream",
     "text": [
      "Top 10 influential 1-word groups and their impacts:\n",
      "Predicted bias: right\n",
      "Confidence: 90.21%\n"
     ]
    },
    {
     "name": "stderr",
     "output_type": "stream",
     "text": [
      "100%|██████████| 512/512 [00:15<00:00, 33.32it/s]\n"
     ]
    },
    {
     "name": "stdout",
     "output_type": "stream",
     "text": [
      "Top 10 influential 1-word groups and their impacts:\n",
      "Predicted bias: left\n",
      "Confidence: 99.87%\n"
     ]
    },
    {
     "name": "stderr",
     "output_type": "stream",
     "text": [
      "100%|██████████| 512/512 [00:15<00:00, 33.16it/s]\n"
     ]
    },
    {
     "name": "stdout",
     "output_type": "stream",
     "text": [
      "Top 10 influential 1-word groups and their impacts:\n",
      "Predicted bias: left\n",
      "Confidence: 99.84%\n"
     ]
    },
    {
     "name": "stderr",
     "output_type": "stream",
     "text": [
      "100%|██████████| 512/512 [00:15<00:00, 33.15it/s]\n"
     ]
    },
    {
     "name": "stdout",
     "output_type": "stream",
     "text": [
      "Top 10 influential 1-word groups and their impacts:\n",
      "Predicted bias: left\n",
      "Confidence: 99.83%\n"
     ]
    },
    {
     "name": "stderr",
     "output_type": "stream",
     "text": [
      "100%|██████████| 512/512 [00:15<00:00, 33.13it/s]\n"
     ]
    },
    {
     "name": "stdout",
     "output_type": "stream",
     "text": [
      "Top 10 influential 1-word groups and their impacts:\n",
      "Predicted bias: center\n",
      "Confidence: 99.34%\n"
     ]
    },
    {
     "name": "stderr",
     "output_type": "stream",
     "text": [
      "100%|██████████| 512/512 [00:15<00:00, 33.06it/s]\n"
     ]
    },
    {
     "name": "stdout",
     "output_type": "stream",
     "text": [
      "Top 10 influential 1-word groups and their impacts:\n",
      "Predicted bias: center\n",
      "Confidence: 99.14%\n"
     ]
    },
    {
     "name": "stderr",
     "output_type": "stream",
     "text": [
      "100%|██████████| 512/512 [00:15<00:00, 32.92it/s]\n"
     ]
    },
    {
     "name": "stdout",
     "output_type": "stream",
     "text": [
      "Top 10 influential 1-word groups and their impacts:\n",
      "Predicted bias: right\n",
      "Confidence: 98.42%\n"
     ]
    },
    {
     "name": "stderr",
     "output_type": "stream",
     "text": [
      "100%|██████████| 512/512 [00:15<00:00, 32.95it/s]\n"
     ]
    },
    {
     "name": "stdout",
     "output_type": "stream",
     "text": [
      "Top 10 influential 1-word groups and their impacts:\n",
      "Predicted bias: center\n",
      "Confidence: 99.59%\n"
     ]
    },
    {
     "name": "stderr",
     "output_type": "stream",
     "text": [
      "100%|██████████| 512/512 [00:15<00:00, 32.91it/s]\n"
     ]
    },
    {
     "name": "stdout",
     "output_type": "stream",
     "text": [
      "Top 10 influential 1-word groups and their impacts:\n",
      "Predicted bias: center\n",
      "Confidence: 99.76%\n"
     ]
    },
    {
     "name": "stderr",
     "output_type": "stream",
     "text": [
      "100%|██████████| 512/512 [00:15<00:00, 32.93it/s]\n"
     ]
    },
    {
     "name": "stdout",
     "output_type": "stream",
     "text": [
      "Top 10 influential 1-word groups and their impacts:\n",
      "Predicted bias: center\n",
      "Confidence: 78.39%\n"
     ]
    },
    {
     "name": "stderr",
     "output_type": "stream",
     "text": [
      "100%|██████████| 512/512 [00:15<00:00, 32.80it/s]\n"
     ]
    },
    {
     "name": "stdout",
     "output_type": "stream",
     "text": [
      "Top 10 influential 1-word groups and their impacts:\n",
      "Predicted bias: right\n",
      "Confidence: 99.54%\n"
     ]
    },
    {
     "name": "stderr",
     "output_type": "stream",
     "text": [
      "100%|██████████| 512/512 [00:40<00:00, 12.77it/s]\n"
     ]
    },
    {
     "name": "stdout",
     "output_type": "stream",
     "text": [
      "Top 10 influential 1-word groups and their impacts:\n",
      "Predicted bias: right\n",
      "Confidence: 99.57%\n"
     ]
    },
    {
     "name": "stderr",
     "output_type": "stream",
     "text": [
      "100%|██████████| 512/512 [00:48<00:00, 10.50it/s]\n"
     ]
    },
    {
     "name": "stdout",
     "output_type": "stream",
     "text": [
      "Top 10 influential 1-word groups and their impacts:\n",
      "Predicted bias: left\n",
      "Confidence: 99.75%\n"
     ]
    },
    {
     "name": "stderr",
     "output_type": "stream",
     "text": [
      "100%|██████████| 512/512 [00:48<00:00, 10.50it/s]\n"
     ]
    },
    {
     "name": "stdout",
     "output_type": "stream",
     "text": [
      "Top 10 influential 1-word groups and their impacts:\n",
      "Predicted bias: left\n",
      "Confidence: 85.77%\n"
     ]
    },
    {
     "name": "stderr",
     "output_type": "stream",
     "text": [
      "100%|██████████| 512/512 [00:48<00:00, 10.53it/s]\n"
     ]
    },
    {
     "name": "stdout",
     "output_type": "stream",
     "text": [
      "Top 10 influential 1-word groups and their impacts:\n",
      "Predicted bias: center\n",
      "Confidence: 99.70%\n"
     ]
    },
    {
     "name": "stderr",
     "output_type": "stream",
     "text": [
      "100%|██████████| 512/512 [00:48<00:00, 10.53it/s]\n"
     ]
    },
    {
     "name": "stdout",
     "output_type": "stream",
     "text": [
      "Top 10 influential 1-word groups and their impacts:\n",
      "Predicted bias: left\n",
      "Confidence: 65.37%\n"
     ]
    },
    {
     "name": "stderr",
     "output_type": "stream",
     "text": [
      "100%|██████████| 512/512 [00:48<00:00, 10.56it/s]\n"
     ]
    },
    {
     "name": "stdout",
     "output_type": "stream",
     "text": [
      "Top 10 influential 1-word groups and their impacts:\n",
      "Predicted bias: left\n",
      "Confidence: 94.74%\n"
     ]
    },
    {
     "name": "stderr",
     "output_type": "stream",
     "text": [
      "100%|██████████| 512/512 [00:48<00:00, 10.56it/s]\n"
     ]
    },
    {
     "name": "stdout",
     "output_type": "stream",
     "text": [
      "Top 10 influential 1-word groups and their impacts:\n",
      "Predicted bias: left\n",
      "Confidence: 99.57%\n"
     ]
    },
    {
     "name": "stderr",
     "output_type": "stream",
     "text": [
      "100%|██████████| 512/512 [00:48<00:00, 10.52it/s]\n"
     ]
    },
    {
     "name": "stdout",
     "output_type": "stream",
     "text": [
      "Top 10 influential 1-word groups and their impacts:\n",
      "Predicted bias: center\n",
      "Confidence: 95.91%\n"
     ]
    },
    {
     "name": "stderr",
     "output_type": "stream",
     "text": [
      "100%|██████████| 512/512 [00:48<00:00, 10.50it/s]\n"
     ]
    },
    {
     "name": "stdout",
     "output_type": "stream",
     "text": [
      "Top 10 influential 1-word groups and their impacts:\n",
      "Predicted bias: center\n",
      "Confidence: 99.65%\n"
     ]
    },
    {
     "name": "stderr",
     "output_type": "stream",
     "text": [
      "100%|██████████| 512/512 [00:48<00:00, 10.52it/s]\n"
     ]
    },
    {
     "name": "stdout",
     "output_type": "stream",
     "text": [
      "Top 10 influential 1-word groups and their impacts:\n",
      "Predicted bias: right\n",
      "Confidence: 98.86%\n"
     ]
    },
    {
     "name": "stderr",
     "output_type": "stream",
     "text": [
      "100%|██████████| 512/512 [00:48<00:00, 10.53it/s]\n"
     ]
    },
    {
     "name": "stdout",
     "output_type": "stream",
     "text": [
      "Top 10 influential 1-word groups and their impacts:\n",
      "Predicted bias: center\n",
      "Confidence: 97.95%\n"
     ]
    },
    {
     "name": "stderr",
     "output_type": "stream",
     "text": [
      "100%|██████████| 512/512 [00:48<00:00, 10.50it/s]\n"
     ]
    },
    {
     "name": "stdout",
     "output_type": "stream",
     "text": [
      "Top 10 influential 1-word groups and their impacts:\n",
      "Predicted bias: right\n",
      "Confidence: 99.30%\n"
     ]
    },
    {
     "name": "stderr",
     "output_type": "stream",
     "text": [
      "100%|██████████| 512/512 [00:48<00:00, 10.52it/s]\n"
     ]
    },
    {
     "name": "stdout",
     "output_type": "stream",
     "text": [
      "Top 10 influential 1-word groups and their impacts:\n",
      "Average Mean score for top three 1-grams across sampled articles: 1.8513899840414525\n",
      "Predicted bias: left\n",
      "Confidence: 99.63%\n"
     ]
    },
    {
     "name": "stderr",
     "output_type": "stream",
     "text": [
      "100%|██████████| 511/511 [00:48<00:00, 10.49it/s]\n"
     ]
    },
    {
     "name": "stdout",
     "output_type": "stream",
     "text": [
      "Top 10 influential 2-word groups and their impacts:\n",
      "Predicted bias: right\n",
      "Confidence: 99.45%\n"
     ]
    },
    {
     "name": "stderr",
     "output_type": "stream",
     "text": [
      "100%|██████████| 511/511 [00:48<00:00, 10.50it/s]\n"
     ]
    },
    {
     "name": "stdout",
     "output_type": "stream",
     "text": [
      "Top 10 influential 2-word groups and their impacts:\n",
      "Predicted bias: right\n",
      "Confidence: 90.21%\n"
     ]
    },
    {
     "name": "stderr",
     "output_type": "stream",
     "text": [
      "100%|██████████| 511/511 [00:48<00:00, 10.50it/s]\n"
     ]
    },
    {
     "name": "stdout",
     "output_type": "stream",
     "text": [
      "Top 10 influential 2-word groups and their impacts:\n",
      "Predicted bias: left\n",
      "Confidence: 99.87%\n"
     ]
    },
    {
     "name": "stderr",
     "output_type": "stream",
     "text": [
      "100%|██████████| 511/511 [00:48<00:00, 10.52it/s]\n"
     ]
    },
    {
     "name": "stdout",
     "output_type": "stream",
     "text": [
      "Top 10 influential 2-word groups and their impacts:\n",
      "Predicted bias: left\n",
      "Confidence: 99.84%\n"
     ]
    },
    {
     "name": "stderr",
     "output_type": "stream",
     "text": [
      "100%|██████████| 511/511 [00:48<00:00, 10.52it/s]\n"
     ]
    },
    {
     "name": "stdout",
     "output_type": "stream",
     "text": [
      "Top 10 influential 2-word groups and their impacts:\n",
      "Predicted bias: left\n",
      "Confidence: 99.83%\n"
     ]
    },
    {
     "name": "stderr",
     "output_type": "stream",
     "text": [
      "100%|██████████| 511/511 [00:48<00:00, 10.53it/s]\n"
     ]
    },
    {
     "name": "stdout",
     "output_type": "stream",
     "text": [
      "Top 10 influential 2-word groups and their impacts:\n",
      "Predicted bias: center\n",
      "Confidence: 99.34%\n"
     ]
    },
    {
     "name": "stderr",
     "output_type": "stream",
     "text": [
      "100%|██████████| 511/511 [00:48<00:00, 10.48it/s]\n"
     ]
    },
    {
     "name": "stdout",
     "output_type": "stream",
     "text": [
      "Top 10 influential 2-word groups and their impacts:\n",
      "Predicted bias: center\n",
      "Confidence: 99.14%\n"
     ]
    },
    {
     "name": "stderr",
     "output_type": "stream",
     "text": [
      "100%|██████████| 511/511 [00:48<00:00, 10.48it/s]\n"
     ]
    },
    {
     "name": "stdout",
     "output_type": "stream",
     "text": [
      "Top 10 influential 2-word groups and their impacts:\n",
      "Predicted bias: right\n",
      "Confidence: 98.42%\n"
     ]
    },
    {
     "name": "stderr",
     "output_type": "stream",
     "text": [
      "100%|██████████| 511/511 [00:48<00:00, 10.50it/s]\n"
     ]
    },
    {
     "name": "stdout",
     "output_type": "stream",
     "text": [
      "Top 10 influential 2-word groups and their impacts:\n",
      "Predicted bias: center\n",
      "Confidence: 99.59%\n"
     ]
    },
    {
     "name": "stderr",
     "output_type": "stream",
     "text": [
      "100%|██████████| 511/511 [00:48<00:00, 10.50it/s]\n"
     ]
    },
    {
     "name": "stdout",
     "output_type": "stream",
     "text": [
      "Top 10 influential 2-word groups and their impacts:\n",
      "Predicted bias: center\n",
      "Confidence: 99.76%\n"
     ]
    },
    {
     "name": "stderr",
     "output_type": "stream",
     "text": [
      "100%|██████████| 511/511 [00:48<00:00, 10.48it/s]\n"
     ]
    },
    {
     "name": "stdout",
     "output_type": "stream",
     "text": [
      "Top 10 influential 2-word groups and their impacts:\n",
      "Predicted bias: center\n",
      "Confidence: 78.39%\n"
     ]
    },
    {
     "name": "stderr",
     "output_type": "stream",
     "text": [
      "100%|██████████| 511/511 [00:48<00:00, 10.47it/s]\n"
     ]
    },
    {
     "name": "stdout",
     "output_type": "stream",
     "text": [
      "Top 10 influential 2-word groups and their impacts:\n",
      "Predicted bias: right\n",
      "Confidence: 99.54%\n"
     ]
    },
    {
     "name": "stderr",
     "output_type": "stream",
     "text": [
      "100%|██████████| 511/511 [00:48<00:00, 10.47it/s]\n"
     ]
    },
    {
     "name": "stdout",
     "output_type": "stream",
     "text": [
      "Top 10 influential 2-word groups and their impacts:\n",
      "Predicted bias: right\n",
      "Confidence: 99.57%\n"
     ]
    },
    {
     "name": "stderr",
     "output_type": "stream",
     "text": [
      "100%|██████████| 511/511 [00:48<00:00, 10.48it/s]\n"
     ]
    },
    {
     "name": "stdout",
     "output_type": "stream",
     "text": [
      "Top 10 influential 2-word groups and their impacts:\n",
      "Predicted bias: left\n",
      "Confidence: 99.75%\n"
     ]
    },
    {
     "name": "stderr",
     "output_type": "stream",
     "text": [
      "100%|██████████| 511/511 [00:48<00:00, 10.46it/s]\n"
     ]
    },
    {
     "name": "stdout",
     "output_type": "stream",
     "text": [
      "Top 10 influential 2-word groups and their impacts:\n",
      "Predicted bias: left\n",
      "Confidence: 85.77%\n"
     ]
    },
    {
     "name": "stderr",
     "output_type": "stream",
     "text": [
      "100%|██████████| 511/511 [00:48<00:00, 10.45it/s]\n"
     ]
    },
    {
     "name": "stdout",
     "output_type": "stream",
     "text": [
      "Top 10 influential 2-word groups and their impacts:\n",
      "Predicted bias: center\n",
      "Confidence: 99.70%\n"
     ]
    },
    {
     "name": "stderr",
     "output_type": "stream",
     "text": [
      "100%|██████████| 511/511 [00:30<00:00, 16.53it/s]\n"
     ]
    },
    {
     "name": "stdout",
     "output_type": "stream",
     "text": [
      "Top 10 influential 2-word groups and their impacts:\n",
      "Predicted bias: left\n",
      "Confidence: 65.37%\n"
     ]
    },
    {
     "name": "stderr",
     "output_type": "stream",
     "text": [
      "100%|██████████| 511/511 [00:15<00:00, 32.09it/s]\n"
     ]
    },
    {
     "name": "stdout",
     "output_type": "stream",
     "text": [
      "Top 10 influential 2-word groups and their impacts:\n",
      "Predicted bias: left\n",
      "Confidence: 94.74%\n"
     ]
    },
    {
     "name": "stderr",
     "output_type": "stream",
     "text": [
      "100%|██████████| 511/511 [00:15<00:00, 32.55it/s]\n"
     ]
    },
    {
     "name": "stdout",
     "output_type": "stream",
     "text": [
      "Top 10 influential 2-word groups and their impacts:\n",
      "Predicted bias: left\n",
      "Confidence: 99.57%\n"
     ]
    },
    {
     "name": "stderr",
     "output_type": "stream",
     "text": [
      "100%|██████████| 511/511 [00:15<00:00, 32.55it/s]\n"
     ]
    },
    {
     "name": "stdout",
     "output_type": "stream",
     "text": [
      "Top 10 influential 2-word groups and their impacts:\n",
      "Predicted bias: center\n",
      "Confidence: 95.91%\n"
     ]
    },
    {
     "name": "stderr",
     "output_type": "stream",
     "text": [
      "100%|██████████| 511/511 [00:15<00:00, 32.35it/s]\n"
     ]
    },
    {
     "name": "stdout",
     "output_type": "stream",
     "text": [
      "Top 10 influential 2-word groups and their impacts:\n",
      "Predicted bias: center\n",
      "Confidence: 99.65%\n"
     ]
    },
    {
     "name": "stderr",
     "output_type": "stream",
     "text": [
      "100%|██████████| 511/511 [00:15<00:00, 32.60it/s]\n"
     ]
    },
    {
     "name": "stdout",
     "output_type": "stream",
     "text": [
      "Top 10 influential 2-word groups and their impacts:\n",
      "Predicted bias: right\n",
      "Confidence: 98.86%\n"
     ]
    },
    {
     "name": "stderr",
     "output_type": "stream",
     "text": [
      "100%|██████████| 511/511 [00:15<00:00, 32.43it/s]\n"
     ]
    },
    {
     "name": "stdout",
     "output_type": "stream",
     "text": [
      "Top 10 influential 2-word groups and their impacts:\n",
      "Predicted bias: center\n",
      "Confidence: 97.95%\n"
     ]
    },
    {
     "name": "stderr",
     "output_type": "stream",
     "text": [
      "100%|██████████| 511/511 [00:15<00:00, 32.28it/s]\n"
     ]
    },
    {
     "name": "stdout",
     "output_type": "stream",
     "text": [
      "Top 10 influential 2-word groups and their impacts:\n",
      "Predicted bias: right\n",
      "Confidence: 99.30%\n"
     ]
    },
    {
     "name": "stderr",
     "output_type": "stream",
     "text": [
      "100%|██████████| 511/511 [00:15<00:00, 32.69it/s]\n"
     ]
    },
    {
     "name": "stdout",
     "output_type": "stream",
     "text": [
      "Top 10 influential 2-word groups and their impacts:\n",
      "Average Mean score for top three 2-grams across sampled articles: 2.4448318495353063\n",
      "Predicted bias: left\n",
      "Confidence: 99.63%\n"
     ]
    },
    {
     "name": "stderr",
     "output_type": "stream",
     "text": [
      "100%|██████████| 510/510 [00:32<00:00, 15.87it/s]\n"
     ]
    },
    {
     "name": "stdout",
     "output_type": "stream",
     "text": [
      "Top 10 influential 3-word groups and their impacts:\n",
      "Predicted bias: right\n",
      "Confidence: 99.45%\n"
     ]
    },
    {
     "name": "stderr",
     "output_type": "stream",
     "text": [
      "100%|██████████| 510/510 [00:20<00:00, 24.94it/s]\n"
     ]
    },
    {
     "name": "stdout",
     "output_type": "stream",
     "text": [
      "Top 10 influential 3-word groups and their impacts:\n",
      "Predicted bias: right\n",
      "Confidence: 90.21%\n"
     ]
    },
    {
     "name": "stderr",
     "output_type": "stream",
     "text": [
      "100%|██████████| 510/510 [00:15<00:00, 32.05it/s]\n"
     ]
    },
    {
     "name": "stdout",
     "output_type": "stream",
     "text": [
      "Top 10 influential 3-word groups and their impacts:\n",
      "Predicted bias: left\n",
      "Confidence: 99.87%\n"
     ]
    },
    {
     "name": "stderr",
     "output_type": "stream",
     "text": [
      "100%|██████████| 510/510 [00:16<00:00, 31.86it/s]\n"
     ]
    },
    {
     "name": "stdout",
     "output_type": "stream",
     "text": [
      "Top 10 influential 3-word groups and their impacts:\n",
      "Predicted bias: left\n",
      "Confidence: 99.84%\n"
     ]
    },
    {
     "name": "stderr",
     "output_type": "stream",
     "text": [
      "100%|██████████| 510/510 [00:15<00:00, 32.34it/s]\n"
     ]
    },
    {
     "name": "stdout",
     "output_type": "stream",
     "text": [
      "Top 10 influential 3-word groups and their impacts:\n",
      "Predicted bias: left\n",
      "Confidence: 99.83%\n"
     ]
    },
    {
     "name": "stderr",
     "output_type": "stream",
     "text": [
      "100%|██████████| 510/510 [00:15<00:00, 32.55it/s]\n"
     ]
    },
    {
     "name": "stdout",
     "output_type": "stream",
     "text": [
      "Top 10 influential 3-word groups and their impacts:\n",
      "Predicted bias: center\n",
      "Confidence: 99.34%\n"
     ]
    },
    {
     "name": "stderr",
     "output_type": "stream",
     "text": [
      "100%|██████████| 510/510 [00:15<00:00, 32.51it/s]\n"
     ]
    },
    {
     "name": "stdout",
     "output_type": "stream",
     "text": [
      "Top 10 influential 3-word groups and their impacts:\n",
      "Predicted bias: center\n",
      "Confidence: 99.14%\n"
     ]
    },
    {
     "name": "stderr",
     "output_type": "stream",
     "text": [
      "100%|██████████| 510/510 [00:15<00:00, 32.95it/s]\n"
     ]
    },
    {
     "name": "stdout",
     "output_type": "stream",
     "text": [
      "Top 10 influential 3-word groups and their impacts:\n",
      "Predicted bias: right\n",
      "Confidence: 98.42%\n"
     ]
    },
    {
     "name": "stderr",
     "output_type": "stream",
     "text": [
      "100%|██████████| 510/510 [00:16<00:00, 30.21it/s]\n"
     ]
    },
    {
     "name": "stdout",
     "output_type": "stream",
     "text": [
      "Top 10 influential 3-word groups and their impacts:\n",
      "Predicted bias: center\n",
      "Confidence: 99.59%\n"
     ]
    },
    {
     "name": "stderr",
     "output_type": "stream",
     "text": [
      "100%|██████████| 510/510 [00:16<00:00, 31.83it/s]\n"
     ]
    },
    {
     "name": "stdout",
     "output_type": "stream",
     "text": [
      "Top 10 influential 3-word groups and their impacts:\n",
      "Predicted bias: center\n",
      "Confidence: 99.76%\n"
     ]
    },
    {
     "name": "stderr",
     "output_type": "stream",
     "text": [
      "100%|██████████| 510/510 [00:16<00:00, 30.00it/s]\n"
     ]
    },
    {
     "name": "stdout",
     "output_type": "stream",
     "text": [
      "Top 10 influential 3-word groups and their impacts:\n",
      "Predicted bias: center\n",
      "Confidence: 78.39%\n"
     ]
    },
    {
     "name": "stderr",
     "output_type": "stream",
     "text": [
      "100%|██████████| 510/510 [00:16<00:00, 31.85it/s]\n"
     ]
    },
    {
     "name": "stdout",
     "output_type": "stream",
     "text": [
      "Top 10 influential 3-word groups and their impacts:\n",
      "Predicted bias: right\n",
      "Confidence: 99.54%\n"
     ]
    },
    {
     "name": "stderr",
     "output_type": "stream",
     "text": [
      "100%|██████████| 510/510 [00:16<00:00, 30.50it/s]\n"
     ]
    },
    {
     "name": "stdout",
     "output_type": "stream",
     "text": [
      "Top 10 influential 3-word groups and their impacts:\n",
      "Predicted bias: right\n",
      "Confidence: 99.57%\n"
     ]
    },
    {
     "name": "stderr",
     "output_type": "stream",
     "text": [
      "100%|██████████| 510/510 [00:16<00:00, 30.48it/s]\n"
     ]
    },
    {
     "name": "stdout",
     "output_type": "stream",
     "text": [
      "Top 10 influential 3-word groups and their impacts:\n",
      "Predicted bias: left\n",
      "Confidence: 99.75%\n"
     ]
    },
    {
     "name": "stderr",
     "output_type": "stream",
     "text": [
      "100%|██████████| 510/510 [00:17<00:00, 29.82it/s]\n"
     ]
    },
    {
     "name": "stdout",
     "output_type": "stream",
     "text": [
      "Top 10 influential 3-word groups and their impacts:\n",
      "Predicted bias: left\n",
      "Confidence: 85.77%\n"
     ]
    },
    {
     "name": "stderr",
     "output_type": "stream",
     "text": [
      "100%|██████████| 510/510 [00:18<00:00, 28.19it/s]\n"
     ]
    },
    {
     "name": "stdout",
     "output_type": "stream",
     "text": [
      "Top 10 influential 3-word groups and their impacts:\n",
      "Predicted bias: center\n",
      "Confidence: 99.70%\n"
     ]
    },
    {
     "name": "stderr",
     "output_type": "stream",
     "text": [
      "100%|██████████| 510/510 [00:16<00:00, 30.79it/s]\n"
     ]
    },
    {
     "name": "stdout",
     "output_type": "stream",
     "text": [
      "Top 10 influential 3-word groups and their impacts:\n",
      "Predicted bias: left\n",
      "Confidence: 65.37%\n"
     ]
    },
    {
     "name": "stderr",
     "output_type": "stream",
     "text": [
      "100%|██████████| 510/510 [00:17<00:00, 29.16it/s]\n"
     ]
    },
    {
     "name": "stdout",
     "output_type": "stream",
     "text": [
      "Top 10 influential 3-word groups and their impacts:\n",
      "Predicted bias: left\n",
      "Confidence: 94.74%\n"
     ]
    },
    {
     "name": "stderr",
     "output_type": "stream",
     "text": [
      "100%|██████████| 510/510 [00:16<00:00, 30.02it/s]\n"
     ]
    },
    {
     "name": "stdout",
     "output_type": "stream",
     "text": [
      "Top 10 influential 3-word groups and their impacts:\n",
      "Predicted bias: left\n",
      "Confidence: 99.57%\n"
     ]
    },
    {
     "name": "stderr",
     "output_type": "stream",
     "text": [
      "100%|██████████| 510/510 [00:16<00:00, 30.25it/s]\n"
     ]
    },
    {
     "name": "stdout",
     "output_type": "stream",
     "text": [
      "Top 10 influential 3-word groups and their impacts:\n",
      "Predicted bias: center\n",
      "Confidence: 95.91%\n"
     ]
    },
    {
     "name": "stderr",
     "output_type": "stream",
     "text": [
      "100%|██████████| 510/510 [00:17<00:00, 29.40it/s]\n"
     ]
    },
    {
     "name": "stdout",
     "output_type": "stream",
     "text": [
      "Top 10 influential 3-word groups and their impacts:\n",
      "Predicted bias: center\n",
      "Confidence: 99.65%\n"
     ]
    },
    {
     "name": "stderr",
     "output_type": "stream",
     "text": [
      "100%|██████████| 510/510 [00:16<00:00, 30.17it/s]\n"
     ]
    },
    {
     "name": "stdout",
     "output_type": "stream",
     "text": [
      "Top 10 influential 3-word groups and their impacts:\n",
      "Predicted bias: right\n",
      "Confidence: 98.86%\n"
     ]
    },
    {
     "name": "stderr",
     "output_type": "stream",
     "text": [
      "100%|██████████| 510/510 [00:16<00:00, 31.53it/s]\n"
     ]
    },
    {
     "name": "stdout",
     "output_type": "stream",
     "text": [
      "Top 10 influential 3-word groups and their impacts:\n",
      "Predicted bias: center\n",
      "Confidence: 97.95%\n"
     ]
    },
    {
     "name": "stderr",
     "output_type": "stream",
     "text": [
      "100%|██████████| 510/510 [00:15<00:00, 31.92it/s]\n"
     ]
    },
    {
     "name": "stdout",
     "output_type": "stream",
     "text": [
      "Top 10 influential 3-word groups and their impacts:\n",
      "Predicted bias: right\n",
      "Confidence: 99.30%\n"
     ]
    },
    {
     "name": "stderr",
     "output_type": "stream",
     "text": [
      "100%|██████████| 510/510 [00:16<00:00, 31.48it/s]\n"
     ]
    },
    {
     "name": "stdout",
     "output_type": "stream",
     "text": [
      "Top 10 influential 3-word groups and their impacts:\n",
      "Average Mean score for top three 3-grams across sampled articles: 2.7188157930970194\n",
      "Predicted bias: left\n",
      "Confidence: 99.63%\n"
     ]
    },
    {
     "name": "stderr",
     "output_type": "stream",
     "text": [
      "100%|██████████| 509/509 [00:15<00:00, 32.35it/s]\n"
     ]
    },
    {
     "name": "stdout",
     "output_type": "stream",
     "text": [
      "Top 10 influential 4-word groups and their impacts:\n",
      "Predicted bias: right\n",
      "Confidence: 99.45%\n"
     ]
    },
    {
     "name": "stderr",
     "output_type": "stream",
     "text": [
      "100%|██████████| 509/509 [00:16<00:00, 31.01it/s]\n"
     ]
    },
    {
     "name": "stdout",
     "output_type": "stream",
     "text": [
      "Top 10 influential 4-word groups and their impacts:\n",
      "Predicted bias: right\n",
      "Confidence: 90.21%\n"
     ]
    },
    {
     "name": "stderr",
     "output_type": "stream",
     "text": [
      "100%|██████████| 509/509 [00:17<00:00, 28.55it/s]\n"
     ]
    },
    {
     "name": "stdout",
     "output_type": "stream",
     "text": [
      "Top 10 influential 4-word groups and their impacts:\n",
      "Predicted bias: left\n",
      "Confidence: 99.87%\n"
     ]
    },
    {
     "name": "stderr",
     "output_type": "stream",
     "text": [
      "100%|██████████| 509/509 [00:17<00:00, 29.28it/s]\n"
     ]
    },
    {
     "name": "stdout",
     "output_type": "stream",
     "text": [
      "Top 10 influential 4-word groups and their impacts:\n",
      "Predicted bias: left\n",
      "Confidence: 99.84%\n"
     ]
    },
    {
     "name": "stderr",
     "output_type": "stream",
     "text": [
      "100%|██████████| 509/509 [00:18<00:00, 27.63it/s]\n"
     ]
    },
    {
     "name": "stdout",
     "output_type": "stream",
     "text": [
      "Top 10 influential 4-word groups and their impacts:\n",
      "Predicted bias: left\n",
      "Confidence: 99.83%\n"
     ]
    },
    {
     "name": "stderr",
     "output_type": "stream",
     "text": [
      "100%|██████████| 509/509 [00:17<00:00, 29.40it/s]\n"
     ]
    },
    {
     "name": "stdout",
     "output_type": "stream",
     "text": [
      "Top 10 influential 4-word groups and their impacts:\n",
      "Predicted bias: center\n",
      "Confidence: 99.34%\n"
     ]
    },
    {
     "name": "stderr",
     "output_type": "stream",
     "text": [
      "100%|██████████| 509/509 [00:16<00:00, 30.30it/s]\n"
     ]
    },
    {
     "name": "stdout",
     "output_type": "stream",
     "text": [
      "Top 10 influential 4-word groups and their impacts:\n",
      "Predicted bias: center\n",
      "Confidence: 99.14%\n"
     ]
    },
    {
     "name": "stderr",
     "output_type": "stream",
     "text": [
      "100%|██████████| 509/509 [00:16<00:00, 30.50it/s]\n"
     ]
    },
    {
     "name": "stdout",
     "output_type": "stream",
     "text": [
      "Top 10 influential 4-word groups and their impacts:\n",
      "Predicted bias: right\n",
      "Confidence: 98.42%\n"
     ]
    },
    {
     "name": "stderr",
     "output_type": "stream",
     "text": [
      "100%|██████████| 509/509 [00:16<00:00, 30.05it/s]\n"
     ]
    },
    {
     "name": "stdout",
     "output_type": "stream",
     "text": [
      "Top 10 influential 4-word groups and their impacts:\n",
      "Predicted bias: center\n",
      "Confidence: 99.59%\n"
     ]
    },
    {
     "name": "stderr",
     "output_type": "stream",
     "text": [
      "100%|██████████| 509/509 [00:17<00:00, 28.72it/s]\n"
     ]
    },
    {
     "name": "stdout",
     "output_type": "stream",
     "text": [
      "Top 10 influential 4-word groups and their impacts:\n",
      "Predicted bias: center\n",
      "Confidence: 99.76%\n"
     ]
    },
    {
     "name": "stderr",
     "output_type": "stream",
     "text": [
      "100%|██████████| 509/509 [00:17<00:00, 28.54it/s]\n"
     ]
    },
    {
     "name": "stdout",
     "output_type": "stream",
     "text": [
      "Top 10 influential 4-word groups and their impacts:\n",
      "Predicted bias: center\n",
      "Confidence: 78.39%\n"
     ]
    },
    {
     "name": "stderr",
     "output_type": "stream",
     "text": [
      "100%|██████████| 509/509 [00:15<00:00, 32.70it/s]\n"
     ]
    },
    {
     "name": "stdout",
     "output_type": "stream",
     "text": [
      "Top 10 influential 4-word groups and their impacts:\n",
      "Predicted bias: right\n",
      "Confidence: 99.54%\n"
     ]
    },
    {
     "name": "stderr",
     "output_type": "stream",
     "text": [
      "100%|██████████| 509/509 [00:15<00:00, 32.51it/s]\n"
     ]
    },
    {
     "name": "stdout",
     "output_type": "stream",
     "text": [
      "Top 10 influential 4-word groups and their impacts:\n",
      "Predicted bias: right\n",
      "Confidence: 99.57%\n"
     ]
    },
    {
     "name": "stderr",
     "output_type": "stream",
     "text": [
      "100%|██████████| 509/509 [00:15<00:00, 32.54it/s]\n"
     ]
    },
    {
     "name": "stdout",
     "output_type": "stream",
     "text": [
      "Top 10 influential 4-word groups and their impacts:\n",
      "Predicted bias: left\n",
      "Confidence: 99.75%\n"
     ]
    },
    {
     "name": "stderr",
     "output_type": "stream",
     "text": [
      "100%|██████████| 509/509 [00:15<00:00, 32.49it/s]\n"
     ]
    },
    {
     "name": "stdout",
     "output_type": "stream",
     "text": [
      "Top 10 influential 4-word groups and their impacts:\n",
      "Predicted bias: left\n",
      "Confidence: 85.77%\n"
     ]
    },
    {
     "name": "stderr",
     "output_type": "stream",
     "text": [
      "100%|██████████| 509/509 [00:15<00:00, 32.31it/s]\n"
     ]
    },
    {
     "name": "stdout",
     "output_type": "stream",
     "text": [
      "Top 10 influential 4-word groups and their impacts:\n",
      "Predicted bias: center\n",
      "Confidence: 99.70%\n"
     ]
    },
    {
     "name": "stderr",
     "output_type": "stream",
     "text": [
      "100%|██████████| 509/509 [00:15<00:00, 32.67it/s]\n"
     ]
    },
    {
     "name": "stdout",
     "output_type": "stream",
     "text": [
      "Top 10 influential 4-word groups and their impacts:\n",
      "Predicted bias: left\n",
      "Confidence: 65.37%\n"
     ]
    },
    {
     "name": "stderr",
     "output_type": "stream",
     "text": [
      "100%|██████████| 509/509 [00:15<00:00, 32.54it/s]\n"
     ]
    },
    {
     "name": "stdout",
     "output_type": "stream",
     "text": [
      "Top 10 influential 4-word groups and their impacts:\n",
      "Predicted bias: left\n",
      "Confidence: 94.74%\n"
     ]
    },
    {
     "name": "stderr",
     "output_type": "stream",
     "text": [
      "100%|██████████| 509/509 [00:15<00:00, 32.83it/s]\n"
     ]
    },
    {
     "name": "stdout",
     "output_type": "stream",
     "text": [
      "Top 10 influential 4-word groups and their impacts:\n",
      "Predicted bias: left\n",
      "Confidence: 99.57%\n"
     ]
    },
    {
     "name": "stderr",
     "output_type": "stream",
     "text": [
      "100%|██████████| 509/509 [00:15<00:00, 32.70it/s]\n"
     ]
    },
    {
     "name": "stdout",
     "output_type": "stream",
     "text": [
      "Top 10 influential 4-word groups and their impacts:\n",
      "Predicted bias: center\n",
      "Confidence: 95.91%\n"
     ]
    },
    {
     "name": "stderr",
     "output_type": "stream",
     "text": [
      "100%|██████████| 509/509 [00:15<00:00, 32.42it/s]\n"
     ]
    },
    {
     "name": "stdout",
     "output_type": "stream",
     "text": [
      "Top 10 influential 4-word groups and their impacts:\n",
      "Predicted bias: center\n",
      "Confidence: 99.65%\n"
     ]
    },
    {
     "name": "stderr",
     "output_type": "stream",
     "text": [
      "100%|██████████| 509/509 [00:15<00:00, 32.73it/s]\n"
     ]
    },
    {
     "name": "stdout",
     "output_type": "stream",
     "text": [
      "Top 10 influential 4-word groups and their impacts:\n",
      "Predicted bias: right\n",
      "Confidence: 98.86%\n"
     ]
    },
    {
     "name": "stderr",
     "output_type": "stream",
     "text": [
      "100%|██████████| 509/509 [00:15<00:00, 31.86it/s]\n"
     ]
    },
    {
     "name": "stdout",
     "output_type": "stream",
     "text": [
      "Top 10 influential 4-word groups and their impacts:\n",
      "Predicted bias: center\n",
      "Confidence: 97.95%\n"
     ]
    },
    {
     "name": "stderr",
     "output_type": "stream",
     "text": [
      "100%|██████████| 509/509 [00:39<00:00, 12.84it/s]\n"
     ]
    },
    {
     "name": "stdout",
     "output_type": "stream",
     "text": [
      "Top 10 influential 4-word groups and their impacts:\n",
      "Predicted bias: right\n",
      "Confidence: 99.30%\n"
     ]
    },
    {
     "name": "stderr",
     "output_type": "stream",
     "text": [
      "100%|██████████| 509/509 [00:48<00:00, 10.58it/s]\n"
     ]
    },
    {
     "name": "stdout",
     "output_type": "stream",
     "text": [
      "Top 10 influential 4-word groups and their impacts:\n",
      "Average Mean score for top three 4-grams across sampled articles: 2.9368393133083974\n",
      "Predicted bias: left\n",
      "Confidence: 99.63%\n"
     ]
    },
    {
     "name": "stderr",
     "output_type": "stream",
     "text": [
      "100%|██████████| 508/508 [00:48<00:00, 10.56it/s]\n"
     ]
    },
    {
     "name": "stdout",
     "output_type": "stream",
     "text": [
      "Top 10 influential 5-word groups and their impacts:\n",
      "Predicted bias: right\n",
      "Confidence: 99.45%\n"
     ]
    },
    {
     "name": "stderr",
     "output_type": "stream",
     "text": [
      "100%|██████████| 508/508 [00:48<00:00, 10.55it/s]\n"
     ]
    },
    {
     "name": "stdout",
     "output_type": "stream",
     "text": [
      "Top 10 influential 5-word groups and their impacts:\n",
      "Predicted bias: right\n",
      "Confidence: 90.21%\n"
     ]
    },
    {
     "name": "stderr",
     "output_type": "stream",
     "text": [
      "100%|██████████| 508/508 [00:48<00:00, 10.53it/s]\n"
     ]
    },
    {
     "name": "stdout",
     "output_type": "stream",
     "text": [
      "Top 10 influential 5-word groups and their impacts:\n",
      "Predicted bias: left\n",
      "Confidence: 99.87%\n"
     ]
    },
    {
     "name": "stderr",
     "output_type": "stream",
     "text": [
      "100%|██████████| 508/508 [00:48<00:00, 10.53it/s]\n"
     ]
    },
    {
     "name": "stdout",
     "output_type": "stream",
     "text": [
      "Top 10 influential 5-word groups and their impacts:\n",
      "Predicted bias: left\n",
      "Confidence: 99.84%\n"
     ]
    },
    {
     "name": "stderr",
     "output_type": "stream",
     "text": [
      "100%|██████████| 508/508 [00:48<00:00, 10.56it/s]\n"
     ]
    },
    {
     "name": "stdout",
     "output_type": "stream",
     "text": [
      "Top 10 influential 5-word groups and their impacts:\n",
      "Predicted bias: left\n",
      "Confidence: 99.83%\n"
     ]
    },
    {
     "name": "stderr",
     "output_type": "stream",
     "text": [
      "100%|██████████| 508/508 [00:48<00:00, 10.55it/s]\n"
     ]
    },
    {
     "name": "stdout",
     "output_type": "stream",
     "text": [
      "Top 10 influential 5-word groups and their impacts:\n",
      "Predicted bias: center\n",
      "Confidence: 99.34%\n"
     ]
    },
    {
     "name": "stderr",
     "output_type": "stream",
     "text": [
      "100%|██████████| 508/508 [00:48<00:00, 10.53it/s]\n"
     ]
    },
    {
     "name": "stdout",
     "output_type": "stream",
     "text": [
      "Top 10 influential 5-word groups and their impacts:\n",
      "Predicted bias: center\n",
      "Confidence: 99.14%\n"
     ]
    },
    {
     "name": "stderr",
     "output_type": "stream",
     "text": [
      "100%|██████████| 508/508 [00:48<00:00, 10.54it/s]\n"
     ]
    },
    {
     "name": "stdout",
     "output_type": "stream",
     "text": [
      "Top 10 influential 5-word groups and their impacts:\n",
      "Predicted bias: right\n",
      "Confidence: 98.42%\n"
     ]
    },
    {
     "name": "stderr",
     "output_type": "stream",
     "text": [
      "100%|██████████| 508/508 [00:48<00:00, 10.52it/s]\n"
     ]
    },
    {
     "name": "stdout",
     "output_type": "stream",
     "text": [
      "Top 10 influential 5-word groups and their impacts:\n",
      "Predicted bias: center\n",
      "Confidence: 99.59%\n"
     ]
    },
    {
     "name": "stderr",
     "output_type": "stream",
     "text": [
      "100%|██████████| 508/508 [00:48<00:00, 10.50it/s]\n"
     ]
    },
    {
     "name": "stdout",
     "output_type": "stream",
     "text": [
      "Top 10 influential 5-word groups and their impacts:\n",
      "Predicted bias: center\n",
      "Confidence: 99.76%\n"
     ]
    },
    {
     "name": "stderr",
     "output_type": "stream",
     "text": [
      "100%|██████████| 508/508 [00:48<00:00, 10.50it/s]\n"
     ]
    },
    {
     "name": "stdout",
     "output_type": "stream",
     "text": [
      "Top 10 influential 5-word groups and their impacts:\n",
      "Predicted bias: center\n",
      "Confidence: 78.39%\n"
     ]
    },
    {
     "name": "stderr",
     "output_type": "stream",
     "text": [
      "100%|██████████| 508/508 [00:48<00:00, 10.52it/s]\n"
     ]
    },
    {
     "name": "stdout",
     "output_type": "stream",
     "text": [
      "Top 10 influential 5-word groups and their impacts:\n",
      "Predicted bias: right\n",
      "Confidence: 99.54%\n"
     ]
    },
    {
     "name": "stderr",
     "output_type": "stream",
     "text": [
      "100%|██████████| 508/508 [00:37<00:00, 13.42it/s]\n"
     ]
    },
    {
     "name": "stdout",
     "output_type": "stream",
     "text": [
      "Top 10 influential 5-word groups and their impacts:\n",
      "Predicted bias: right\n",
      "Confidence: 99.57%\n"
     ]
    },
    {
     "name": "stderr",
     "output_type": "stream",
     "text": [
      "100%|██████████| 508/508 [00:15<00:00, 32.67it/s]\n"
     ]
    },
    {
     "name": "stdout",
     "output_type": "stream",
     "text": [
      "Top 10 influential 5-word groups and their impacts:\n",
      "Predicted bias: left\n",
      "Confidence: 99.75%\n"
     ]
    },
    {
     "name": "stderr",
     "output_type": "stream",
     "text": [
      "100%|██████████| 508/508 [00:15<00:00, 32.69it/s]\n"
     ]
    },
    {
     "name": "stdout",
     "output_type": "stream",
     "text": [
      "Top 10 influential 5-word groups and their impacts:\n",
      "Predicted bias: left\n",
      "Confidence: 85.77%\n"
     ]
    },
    {
     "name": "stderr",
     "output_type": "stream",
     "text": [
      "100%|██████████| 508/508 [00:15<00:00, 32.73it/s]\n"
     ]
    },
    {
     "name": "stdout",
     "output_type": "stream",
     "text": [
      "Top 10 influential 5-word groups and their impacts:\n",
      "Predicted bias: center\n",
      "Confidence: 99.70%\n"
     ]
    },
    {
     "name": "stderr",
     "output_type": "stream",
     "text": [
      "100%|██████████| 508/508 [00:15<00:00, 32.58it/s]\n"
     ]
    },
    {
     "name": "stdout",
     "output_type": "stream",
     "text": [
      "Top 10 influential 5-word groups and their impacts:\n",
      "Predicted bias: left\n",
      "Confidence: 65.37%\n"
     ]
    },
    {
     "name": "stderr",
     "output_type": "stream",
     "text": [
      "100%|██████████| 508/508 [00:15<00:00, 32.69it/s]\n"
     ]
    },
    {
     "name": "stdout",
     "output_type": "stream",
     "text": [
      "Top 10 influential 5-word groups and their impacts:\n",
      "Predicted bias: left\n",
      "Confidence: 94.74%\n"
     ]
    },
    {
     "name": "stderr",
     "output_type": "stream",
     "text": [
      "100%|██████████| 508/508 [00:15<00:00, 32.69it/s]\n"
     ]
    },
    {
     "name": "stdout",
     "output_type": "stream",
     "text": [
      "Top 10 influential 5-word groups and their impacts:\n",
      "Predicted bias: left\n",
      "Confidence: 99.57%\n"
     ]
    },
    {
     "name": "stderr",
     "output_type": "stream",
     "text": [
      "100%|██████████| 508/508 [00:15<00:00, 32.73it/s]\n"
     ]
    },
    {
     "name": "stdout",
     "output_type": "stream",
     "text": [
      "Top 10 influential 5-word groups and their impacts:\n",
      "Predicted bias: center\n",
      "Confidence: 95.91%\n"
     ]
    },
    {
     "name": "stderr",
     "output_type": "stream",
     "text": [
      "100%|██████████| 508/508 [00:15<00:00, 32.72it/s]\n"
     ]
    },
    {
     "name": "stdout",
     "output_type": "stream",
     "text": [
      "Top 10 influential 5-word groups and their impacts:\n",
      "Predicted bias: center\n",
      "Confidence: 99.65%\n"
     ]
    },
    {
     "name": "stderr",
     "output_type": "stream",
     "text": [
      "100%|██████████| 508/508 [00:15<00:00, 32.89it/s]\n"
     ]
    },
    {
     "name": "stdout",
     "output_type": "stream",
     "text": [
      "Top 10 influential 5-word groups and their impacts:\n",
      "Predicted bias: right\n",
      "Confidence: 98.86%\n"
     ]
    },
    {
     "name": "stderr",
     "output_type": "stream",
     "text": [
      "100%|██████████| 508/508 [00:15<00:00, 32.76it/s]\n"
     ]
    },
    {
     "name": "stdout",
     "output_type": "stream",
     "text": [
      "Top 10 influential 5-word groups and their impacts:\n",
      "Predicted bias: center\n",
      "Confidence: 97.95%\n"
     ]
    },
    {
     "name": "stderr",
     "output_type": "stream",
     "text": [
      "100%|██████████| 508/508 [00:15<00:00, 32.64it/s]\n"
     ]
    },
    {
     "name": "stdout",
     "output_type": "stream",
     "text": [
      "Top 10 influential 5-word groups and their impacts:\n",
      "Predicted bias: right\n",
      "Confidence: 99.30%\n"
     ]
    },
    {
     "name": "stderr",
     "output_type": "stream",
     "text": [
      "100%|██████████| 508/508 [00:15<00:00, 32.80it/s]\n"
     ]
    },
    {
     "name": "stdout",
     "output_type": "stream",
     "text": [
      "Top 10 influential 5-word groups and their impacts:\n",
      "Average Mean score for top three 5-grams across sampled articles: 3.0339577158292133\n",
      "Predicted bias: left\n",
      "Confidence: 99.63%\n"
     ]
    },
    {
     "name": "stderr",
     "output_type": "stream",
     "text": [
      "100%|██████████| 507/507 [00:15<00:00, 32.82it/s]\n"
     ]
    },
    {
     "name": "stdout",
     "output_type": "stream",
     "text": [
      "Top 10 influential 6-word groups and their impacts:\n",
      "Predicted bias: right\n",
      "Confidence: 99.45%\n"
     ]
    },
    {
     "name": "stderr",
     "output_type": "stream",
     "text": [
      "100%|██████████| 507/507 [00:15<00:00, 32.78it/s]\n"
     ]
    },
    {
     "name": "stdout",
     "output_type": "stream",
     "text": [
      "Top 10 influential 6-word groups and their impacts:\n",
      "Predicted bias: right\n",
      "Confidence: 90.21%\n"
     ]
    },
    {
     "name": "stderr",
     "output_type": "stream",
     "text": [
      "100%|██████████| 507/507 [00:15<00:00, 32.54it/s]\n"
     ]
    },
    {
     "name": "stdout",
     "output_type": "stream",
     "text": [
      "Top 10 influential 6-word groups and their impacts:\n",
      "Predicted bias: left\n",
      "Confidence: 99.87%\n"
     ]
    },
    {
     "name": "stderr",
     "output_type": "stream",
     "text": [
      "100%|██████████| 507/507 [00:15<00:00, 32.92it/s]\n"
     ]
    },
    {
     "name": "stdout",
     "output_type": "stream",
     "text": [
      "Top 10 influential 6-word groups and their impacts:\n",
      "Predicted bias: left\n",
      "Confidence: 99.84%\n"
     ]
    },
    {
     "name": "stderr",
     "output_type": "stream",
     "text": [
      "100%|██████████| 507/507 [00:15<00:00, 32.74it/s]\n"
     ]
    },
    {
     "name": "stdout",
     "output_type": "stream",
     "text": [
      "Top 10 influential 6-word groups and their impacts:\n",
      "Predicted bias: left\n",
      "Confidence: 99.83%\n"
     ]
    },
    {
     "name": "stderr",
     "output_type": "stream",
     "text": [
      "100%|██████████| 507/507 [00:15<00:00, 32.98it/s]\n"
     ]
    },
    {
     "name": "stdout",
     "output_type": "stream",
     "text": [
      "Top 10 influential 6-word groups and their impacts:\n",
      "Predicted bias: center\n",
      "Confidence: 99.34%\n"
     ]
    },
    {
     "name": "stderr",
     "output_type": "stream",
     "text": [
      "100%|██████████| 507/507 [00:15<00:00, 32.73it/s]\n"
     ]
    },
    {
     "name": "stdout",
     "output_type": "stream",
     "text": [
      "Top 10 influential 6-word groups and their impacts:\n",
      "Predicted bias: center\n",
      "Confidence: 99.14%\n"
     ]
    },
    {
     "name": "stderr",
     "output_type": "stream",
     "text": [
      "100%|██████████| 507/507 [00:15<00:00, 32.72it/s]\n"
     ]
    },
    {
     "name": "stdout",
     "output_type": "stream",
     "text": [
      "Top 10 influential 6-word groups and their impacts:\n",
      "Predicted bias: right\n",
      "Confidence: 98.42%\n"
     ]
    },
    {
     "name": "stderr",
     "output_type": "stream",
     "text": [
      "100%|██████████| 507/507 [00:15<00:00, 32.87it/s]\n"
     ]
    },
    {
     "name": "stdout",
     "output_type": "stream",
     "text": [
      "Top 10 influential 6-word groups and their impacts:\n",
      "Predicted bias: center\n",
      "Confidence: 99.59%\n"
     ]
    },
    {
     "name": "stderr",
     "output_type": "stream",
     "text": [
      "100%|██████████| 507/507 [00:15<00:00, 32.80it/s]\n"
     ]
    },
    {
     "name": "stdout",
     "output_type": "stream",
     "text": [
      "Top 10 influential 6-word groups and their impacts:\n",
      "Predicted bias: center\n",
      "Confidence: 99.76%\n"
     ]
    },
    {
     "name": "stderr",
     "output_type": "stream",
     "text": [
      "100%|██████████| 507/507 [00:15<00:00, 32.73it/s]\n"
     ]
    },
    {
     "name": "stdout",
     "output_type": "stream",
     "text": [
      "Top 10 influential 6-word groups and their impacts:\n",
      "Predicted bias: center\n",
      "Confidence: 78.39%\n"
     ]
    },
    {
     "name": "stderr",
     "output_type": "stream",
     "text": [
      "100%|██████████| 507/507 [00:15<00:00, 32.78it/s]\n"
     ]
    },
    {
     "name": "stdout",
     "output_type": "stream",
     "text": [
      "Top 10 influential 6-word groups and their impacts:\n",
      "Predicted bias: right\n",
      "Confidence: 99.54%\n"
     ]
    },
    {
     "name": "stderr",
     "output_type": "stream",
     "text": [
      "100%|██████████| 507/507 [00:15<00:00, 32.82it/s]\n"
     ]
    },
    {
     "name": "stdout",
     "output_type": "stream",
     "text": [
      "Top 10 influential 6-word groups and their impacts:\n",
      "Predicted bias: right\n",
      "Confidence: 99.57%\n"
     ]
    },
    {
     "name": "stderr",
     "output_type": "stream",
     "text": [
      "100%|██████████| 507/507 [00:15<00:00, 32.87it/s]\n"
     ]
    },
    {
     "name": "stdout",
     "output_type": "stream",
     "text": [
      "Top 10 influential 6-word groups and their impacts:\n",
      "Predicted bias: left\n",
      "Confidence: 99.75%\n"
     ]
    },
    {
     "name": "stderr",
     "output_type": "stream",
     "text": [
      "100%|██████████| 507/507 [00:15<00:00, 32.80it/s]\n"
     ]
    },
    {
     "name": "stdout",
     "output_type": "stream",
     "text": [
      "Top 10 influential 6-word groups and their impacts:\n",
      "Predicted bias: left\n",
      "Confidence: 85.77%\n"
     ]
    },
    {
     "name": "stderr",
     "output_type": "stream",
     "text": [
      "100%|██████████| 507/507 [00:15<00:00, 32.83it/s]\n"
     ]
    },
    {
     "name": "stdout",
     "output_type": "stream",
     "text": [
      "Top 10 influential 6-word groups and their impacts:\n",
      "Predicted bias: center\n",
      "Confidence: 99.70%\n"
     ]
    },
    {
     "name": "stderr",
     "output_type": "stream",
     "text": [
      "100%|██████████| 507/507 [00:15<00:00, 32.77it/s]\n"
     ]
    },
    {
     "name": "stdout",
     "output_type": "stream",
     "text": [
      "Top 10 influential 6-word groups and their impacts:\n",
      "Predicted bias: left\n",
      "Confidence: 65.37%\n"
     ]
    },
    {
     "name": "stderr",
     "output_type": "stream",
     "text": [
      "100%|██████████| 507/507 [00:15<00:00, 32.86it/s]\n"
     ]
    },
    {
     "name": "stdout",
     "output_type": "stream",
     "text": [
      "Top 10 influential 6-word groups and their impacts:\n",
      "Predicted bias: left\n",
      "Confidence: 94.74%\n"
     ]
    },
    {
     "name": "stderr",
     "output_type": "stream",
     "text": [
      "100%|██████████| 507/507 [00:15<00:00, 32.78it/s]\n"
     ]
    },
    {
     "name": "stdout",
     "output_type": "stream",
     "text": [
      "Top 10 influential 6-word groups and their impacts:\n",
      "Predicted bias: left\n",
      "Confidence: 99.57%\n"
     ]
    },
    {
     "name": "stderr",
     "output_type": "stream",
     "text": [
      "100%|██████████| 507/507 [00:15<00:00, 32.82it/s]\n"
     ]
    },
    {
     "name": "stdout",
     "output_type": "stream",
     "text": [
      "Top 10 influential 6-word groups and their impacts:\n",
      "Predicted bias: center\n",
      "Confidence: 95.91%\n"
     ]
    },
    {
     "name": "stderr",
     "output_type": "stream",
     "text": [
      "100%|██████████| 507/507 [00:15<00:00, 32.81it/s]\n"
     ]
    },
    {
     "name": "stdout",
     "output_type": "stream",
     "text": [
      "Top 10 influential 6-word groups and their impacts:\n",
      "Predicted bias: center\n",
      "Confidence: 99.65%\n"
     ]
    },
    {
     "name": "stderr",
     "output_type": "stream",
     "text": [
      "100%|██████████| 507/507 [00:15<00:00, 32.89it/s]\n"
     ]
    },
    {
     "name": "stdout",
     "output_type": "stream",
     "text": [
      "Top 10 influential 6-word groups and their impacts:\n",
      "Predicted bias: right\n",
      "Confidence: 98.86%\n"
     ]
    },
    {
     "name": "stderr",
     "output_type": "stream",
     "text": [
      "100%|██████████| 507/507 [00:15<00:00, 32.81it/s]\n"
     ]
    },
    {
     "name": "stdout",
     "output_type": "stream",
     "text": [
      "Top 10 influential 6-word groups and their impacts:\n",
      "Predicted bias: center\n",
      "Confidence: 97.95%\n"
     ]
    },
    {
     "name": "stderr",
     "output_type": "stream",
     "text": [
      "100%|██████████| 507/507 [00:15<00:00, 32.84it/s]\n"
     ]
    },
    {
     "name": "stdout",
     "output_type": "stream",
     "text": [
      "Top 10 influential 6-word groups and their impacts:\n",
      "Predicted bias: right\n",
      "Confidence: 99.30%\n"
     ]
    },
    {
     "name": "stderr",
     "output_type": "stream",
     "text": [
      "100%|██████████| 507/507 [00:15<00:00, 32.87it/s]\n"
     ]
    },
    {
     "name": "stdout",
     "output_type": "stream",
     "text": [
      "Top 10 influential 6-word groups and their impacts:\n",
      "Average Mean score for top three 6-grams across sampled articles: 3.1152871307730674\n",
      "Predicted bias: left\n",
      "Confidence: 99.63%\n"
     ]
    },
    {
     "name": "stderr",
     "output_type": "stream",
     "text": [
      "100%|██████████| 506/506 [00:15<00:00, 32.85it/s]\n"
     ]
    },
    {
     "name": "stdout",
     "output_type": "stream",
     "text": [
      "Top 10 influential 7-word groups and their impacts:\n",
      "Predicted bias: right\n",
      "Confidence: 99.45%\n"
     ]
    },
    {
     "name": "stderr",
     "output_type": "stream",
     "text": [
      "100%|██████████| 506/506 [00:15<00:00, 32.78it/s]\n"
     ]
    },
    {
     "name": "stdout",
     "output_type": "stream",
     "text": [
      "Top 10 influential 7-word groups and their impacts:\n",
      "Predicted bias: right\n",
      "Confidence: 90.21%\n"
     ]
    },
    {
     "name": "stderr",
     "output_type": "stream",
     "text": [
      "100%|██████████| 506/506 [00:15<00:00, 32.77it/s]\n"
     ]
    },
    {
     "name": "stdout",
     "output_type": "stream",
     "text": [
      "Top 10 influential 7-word groups and their impacts:\n",
      "Predicted bias: left\n",
      "Confidence: 99.87%\n"
     ]
    },
    {
     "name": "stderr",
     "output_type": "stream",
     "text": [
      "100%|██████████| 506/506 [00:15<00:00, 32.82it/s]\n"
     ]
    },
    {
     "name": "stdout",
     "output_type": "stream",
     "text": [
      "Top 10 influential 7-word groups and their impacts:\n",
      "Predicted bias: left\n",
      "Confidence: 99.84%\n"
     ]
    },
    {
     "name": "stderr",
     "output_type": "stream",
     "text": [
      "100%|██████████| 506/506 [00:15<00:00, 32.90it/s]\n"
     ]
    },
    {
     "name": "stdout",
     "output_type": "stream",
     "text": [
      "Top 10 influential 7-word groups and their impacts:\n",
      "Predicted bias: left\n",
      "Confidence: 99.83%\n"
     ]
    },
    {
     "name": "stderr",
     "output_type": "stream",
     "text": [
      "100%|██████████| 506/506 [00:15<00:00, 32.81it/s]\n"
     ]
    },
    {
     "name": "stdout",
     "output_type": "stream",
     "text": [
      "Top 10 influential 7-word groups and their impacts:\n",
      "Predicted bias: center\n",
      "Confidence: 99.34%\n"
     ]
    },
    {
     "name": "stderr",
     "output_type": "stream",
     "text": [
      "100%|██████████| 506/506 [00:15<00:00, 32.82it/s]\n"
     ]
    },
    {
     "name": "stdout",
     "output_type": "stream",
     "text": [
      "Top 10 influential 7-word groups and their impacts:\n",
      "Predicted bias: center\n",
      "Confidence: 99.14%\n"
     ]
    },
    {
     "name": "stderr",
     "output_type": "stream",
     "text": [
      "100%|██████████| 506/506 [00:15<00:00, 32.87it/s]\n"
     ]
    },
    {
     "name": "stdout",
     "output_type": "stream",
     "text": [
      "Top 10 influential 7-word groups and their impacts:\n",
      "Predicted bias: right\n",
      "Confidence: 98.42%\n"
     ]
    },
    {
     "name": "stderr",
     "output_type": "stream",
     "text": [
      "100%|██████████| 506/506 [00:15<00:00, 32.86it/s]\n"
     ]
    },
    {
     "name": "stdout",
     "output_type": "stream",
     "text": [
      "Top 10 influential 7-word groups and their impacts:\n",
      "Predicted bias: center\n",
      "Confidence: 99.59%\n"
     ]
    },
    {
     "name": "stderr",
     "output_type": "stream",
     "text": [
      "100%|██████████| 506/506 [00:15<00:00, 32.80it/s]\n"
     ]
    },
    {
     "name": "stdout",
     "output_type": "stream",
     "text": [
      "Top 10 influential 7-word groups and their impacts:\n",
      "Predicted bias: center\n",
      "Confidence: 99.76%\n"
     ]
    },
    {
     "name": "stderr",
     "output_type": "stream",
     "text": [
      "100%|██████████| 506/506 [00:15<00:00, 32.86it/s]\n"
     ]
    },
    {
     "name": "stdout",
     "output_type": "stream",
     "text": [
      "Top 10 influential 7-word groups and their impacts:\n",
      "Predicted bias: center\n",
      "Confidence: 78.39%\n"
     ]
    },
    {
     "name": "stderr",
     "output_type": "stream",
     "text": [
      "100%|██████████| 506/506 [00:15<00:00, 32.87it/s]\n"
     ]
    },
    {
     "name": "stdout",
     "output_type": "stream",
     "text": [
      "Top 10 influential 7-word groups and their impacts:\n",
      "Predicted bias: right\n",
      "Confidence: 99.54%\n"
     ]
    },
    {
     "name": "stderr",
     "output_type": "stream",
     "text": [
      "100%|██████████| 506/506 [00:15<00:00, 32.94it/s]\n"
     ]
    },
    {
     "name": "stdout",
     "output_type": "stream",
     "text": [
      "Top 10 influential 7-word groups and their impacts:\n",
      "Predicted bias: right\n",
      "Confidence: 99.57%\n"
     ]
    },
    {
     "name": "stderr",
     "output_type": "stream",
     "text": [
      "100%|██████████| 506/506 [00:15<00:00, 32.79it/s]\n"
     ]
    },
    {
     "name": "stdout",
     "output_type": "stream",
     "text": [
      "Top 10 influential 7-word groups and their impacts:\n",
      "Predicted bias: left\n",
      "Confidence: 99.75%\n"
     ]
    },
    {
     "name": "stderr",
     "output_type": "stream",
     "text": [
      "100%|██████████| 506/506 [00:15<00:00, 32.84it/s]\n"
     ]
    },
    {
     "name": "stdout",
     "output_type": "stream",
     "text": [
      "Top 10 influential 7-word groups and their impacts:\n",
      "Predicted bias: left\n",
      "Confidence: 85.77%\n"
     ]
    },
    {
     "name": "stderr",
     "output_type": "stream",
     "text": [
      "100%|██████████| 506/506 [00:15<00:00, 32.89it/s]\n"
     ]
    },
    {
     "name": "stdout",
     "output_type": "stream",
     "text": [
      "Top 10 influential 7-word groups and their impacts:\n",
      "Predicted bias: center\n",
      "Confidence: 99.70%\n"
     ]
    },
    {
     "name": "stderr",
     "output_type": "stream",
     "text": [
      "100%|██████████| 506/506 [00:15<00:00, 32.80it/s]\n"
     ]
    },
    {
     "name": "stdout",
     "output_type": "stream",
     "text": [
      "Top 10 influential 7-word groups and their impacts:\n",
      "Predicted bias: left\n",
      "Confidence: 65.37%\n"
     ]
    },
    {
     "name": "stderr",
     "output_type": "stream",
     "text": [
      "100%|██████████| 506/506 [00:15<00:00, 32.75it/s]\n"
     ]
    },
    {
     "name": "stdout",
     "output_type": "stream",
     "text": [
      "Top 10 influential 7-word groups and their impacts:\n",
      "Predicted bias: left\n",
      "Confidence: 94.74%\n"
     ]
    },
    {
     "name": "stderr",
     "output_type": "stream",
     "text": [
      "100%|██████████| 506/506 [00:15<00:00, 32.81it/s]\n"
     ]
    },
    {
     "name": "stdout",
     "output_type": "stream",
     "text": [
      "Top 10 influential 7-word groups and their impacts:\n",
      "Predicted bias: left\n",
      "Confidence: 99.57%\n"
     ]
    },
    {
     "name": "stderr",
     "output_type": "stream",
     "text": [
      "100%|██████████| 506/506 [00:15<00:00, 32.94it/s]\n"
     ]
    },
    {
     "name": "stdout",
     "output_type": "stream",
     "text": [
      "Top 10 influential 7-word groups and their impacts:\n",
      "Predicted bias: center\n",
      "Confidence: 95.91%\n"
     ]
    },
    {
     "name": "stderr",
     "output_type": "stream",
     "text": [
      "100%|██████████| 506/506 [00:15<00:00, 32.86it/s]\n"
     ]
    },
    {
     "name": "stdout",
     "output_type": "stream",
     "text": [
      "Top 10 influential 7-word groups and their impacts:\n",
      "Predicted bias: center\n",
      "Confidence: 99.65%\n"
     ]
    },
    {
     "name": "stderr",
     "output_type": "stream",
     "text": [
      "100%|██████████| 506/506 [00:15<00:00, 32.77it/s]\n"
     ]
    },
    {
     "name": "stdout",
     "output_type": "stream",
     "text": [
      "Top 10 influential 7-word groups and their impacts:\n",
      "Predicted bias: right\n",
      "Confidence: 98.86%\n"
     ]
    },
    {
     "name": "stderr",
     "output_type": "stream",
     "text": [
      "100%|██████████| 506/506 [00:15<00:00, 32.79it/s]\n"
     ]
    },
    {
     "name": "stdout",
     "output_type": "stream",
     "text": [
      "Top 10 influential 7-word groups and their impacts:\n",
      "Predicted bias: center\n",
      "Confidence: 97.95%\n"
     ]
    },
    {
     "name": "stderr",
     "output_type": "stream",
     "text": [
      "100%|██████████| 506/506 [00:15<00:00, 32.79it/s]\n"
     ]
    },
    {
     "name": "stdout",
     "output_type": "stream",
     "text": [
      "Top 10 influential 7-word groups and their impacts:\n",
      "Predicted bias: right\n",
      "Confidence: 99.30%\n"
     ]
    },
    {
     "name": "stderr",
     "output_type": "stream",
     "text": [
      "100%|██████████| 506/506 [00:15<00:00, 32.83it/s]\n"
     ]
    },
    {
     "name": "stdout",
     "output_type": "stream",
     "text": [
      "Top 10 influential 7-word groups and their impacts:\n",
      "Average Mean score for top three 7-grams across sampled articles: 3.1337921974062914\n",
      "Predicted bias: left\n",
      "Confidence: 99.63%\n"
     ]
    },
    {
     "name": "stderr",
     "output_type": "stream",
     "text": [
      "100%|██████████| 505/505 [00:15<00:00, 32.98it/s]\n"
     ]
    },
    {
     "name": "stdout",
     "output_type": "stream",
     "text": [
      "Top 10 influential 8-word groups and their impacts:\n",
      "Predicted bias: right\n",
      "Confidence: 99.45%\n"
     ]
    },
    {
     "name": "stderr",
     "output_type": "stream",
     "text": [
      "100%|██████████| 505/505 [00:15<00:00, 32.83it/s]\n"
     ]
    },
    {
     "name": "stdout",
     "output_type": "stream",
     "text": [
      "Top 10 influential 8-word groups and their impacts:\n",
      "Predicted bias: right\n",
      "Confidence: 90.21%\n"
     ]
    },
    {
     "name": "stderr",
     "output_type": "stream",
     "text": [
      "100%|██████████| 505/505 [00:15<00:00, 32.91it/s]\n"
     ]
    },
    {
     "name": "stdout",
     "output_type": "stream",
     "text": [
      "Top 10 influential 8-word groups and their impacts:\n",
      "Predicted bias: left\n",
      "Confidence: 99.87%\n"
     ]
    },
    {
     "name": "stderr",
     "output_type": "stream",
     "text": [
      "100%|██████████| 505/505 [00:15<00:00, 32.77it/s]\n"
     ]
    },
    {
     "name": "stdout",
     "output_type": "stream",
     "text": [
      "Top 10 influential 8-word groups and their impacts:\n",
      "Predicted bias: left\n",
      "Confidence: 99.84%\n"
     ]
    },
    {
     "name": "stderr",
     "output_type": "stream",
     "text": [
      "100%|██████████| 505/505 [00:15<00:00, 32.76it/s]\n"
     ]
    },
    {
     "name": "stdout",
     "output_type": "stream",
     "text": [
      "Top 10 influential 8-word groups and their impacts:\n",
      "Predicted bias: left\n",
      "Confidence: 99.83%\n"
     ]
    },
    {
     "name": "stderr",
     "output_type": "stream",
     "text": [
      "100%|██████████| 505/505 [00:15<00:00, 32.77it/s]\n"
     ]
    },
    {
     "name": "stdout",
     "output_type": "stream",
     "text": [
      "Top 10 influential 8-word groups and their impacts:\n",
      "Predicted bias: center\n",
      "Confidence: 99.34%\n"
     ]
    },
    {
     "name": "stderr",
     "output_type": "stream",
     "text": [
      "100%|██████████| 505/505 [00:15<00:00, 32.75it/s]\n"
     ]
    },
    {
     "name": "stdout",
     "output_type": "stream",
     "text": [
      "Top 10 influential 8-word groups and their impacts:\n",
      "Predicted bias: center\n",
      "Confidence: 99.14%\n"
     ]
    },
    {
     "name": "stderr",
     "output_type": "stream",
     "text": [
      "100%|██████████| 505/505 [00:15<00:00, 32.29it/s]\n"
     ]
    },
    {
     "name": "stdout",
     "output_type": "stream",
     "text": [
      "Top 10 influential 8-word groups and their impacts:\n",
      "Predicted bias: right\n",
      "Confidence: 98.42%\n"
     ]
    },
    {
     "name": "stderr",
     "output_type": "stream",
     "text": [
      "100%|██████████| 505/505 [00:25<00:00, 20.01it/s]\n"
     ]
    },
    {
     "name": "stdout",
     "output_type": "stream",
     "text": [
      "Top 10 influential 8-word groups and their impacts:\n",
      "Predicted bias: center\n",
      "Confidence: 99.59%\n"
     ]
    },
    {
     "name": "stderr",
     "output_type": "stream",
     "text": [
      "100%|██████████| 505/505 [00:47<00:00, 10.61it/s]\n"
     ]
    },
    {
     "name": "stdout",
     "output_type": "stream",
     "text": [
      "Top 10 influential 8-word groups and their impacts:\n",
      "Predicted bias: center\n",
      "Confidence: 99.76%\n"
     ]
    },
    {
     "name": "stderr",
     "output_type": "stream",
     "text": [
      "100%|██████████| 505/505 [00:47<00:00, 10.61it/s]\n"
     ]
    },
    {
     "name": "stdout",
     "output_type": "stream",
     "text": [
      "Top 10 influential 8-word groups and their impacts:\n",
      "Predicted bias: center\n",
      "Confidence: 78.39%\n"
     ]
    },
    {
     "name": "stderr",
     "output_type": "stream",
     "text": [
      "100%|██████████| 505/505 [00:47<00:00, 10.58it/s]\n"
     ]
    },
    {
     "name": "stdout",
     "output_type": "stream",
     "text": [
      "Top 10 influential 8-word groups and their impacts:\n",
      "Predicted bias: right\n",
      "Confidence: 99.54%\n"
     ]
    },
    {
     "name": "stderr",
     "output_type": "stream",
     "text": [
      "100%|██████████| 505/505 [00:47<00:00, 10.56it/s]\n"
     ]
    },
    {
     "name": "stdout",
     "output_type": "stream",
     "text": [
      "Top 10 influential 8-word groups and their impacts:\n",
      "Predicted bias: right\n",
      "Confidence: 99.57%\n"
     ]
    },
    {
     "name": "stderr",
     "output_type": "stream",
     "text": [
      "100%|██████████| 505/505 [00:47<00:00, 10.54it/s]\n"
     ]
    },
    {
     "name": "stdout",
     "output_type": "stream",
     "text": [
      "Top 10 influential 8-word groups and their impacts:\n",
      "Predicted bias: left\n",
      "Confidence: 99.75%\n"
     ]
    },
    {
     "name": "stderr",
     "output_type": "stream",
     "text": [
      "100%|██████████| 505/505 [00:47<00:00, 10.53it/s]\n"
     ]
    },
    {
     "name": "stdout",
     "output_type": "stream",
     "text": [
      "Top 10 influential 8-word groups and their impacts:\n",
      "Predicted bias: left\n",
      "Confidence: 85.77%\n"
     ]
    },
    {
     "name": "stderr",
     "output_type": "stream",
     "text": [
      "100%|██████████| 505/505 [00:48<00:00, 10.50it/s]\n"
     ]
    },
    {
     "name": "stdout",
     "output_type": "stream",
     "text": [
      "Top 10 influential 8-word groups and their impacts:\n",
      "Predicted bias: center\n",
      "Confidence: 99.70%\n"
     ]
    },
    {
     "name": "stderr",
     "output_type": "stream",
     "text": [
      "100%|██████████| 505/505 [00:48<00:00, 10.48it/s]\n"
     ]
    },
    {
     "name": "stdout",
     "output_type": "stream",
     "text": [
      "Top 10 influential 8-word groups and their impacts:\n",
      "Predicted bias: left\n",
      "Confidence: 65.37%\n"
     ]
    },
    {
     "name": "stderr",
     "output_type": "stream",
     "text": [
      "100%|██████████| 505/505 [00:48<00:00, 10.51it/s]\n"
     ]
    },
    {
     "name": "stdout",
     "output_type": "stream",
     "text": [
      "Top 10 influential 8-word groups and their impacts:\n",
      "Predicted bias: left\n",
      "Confidence: 94.74%\n"
     ]
    },
    {
     "name": "stderr",
     "output_type": "stream",
     "text": [
      "100%|██████████| 505/505 [00:48<00:00, 10.51it/s]\n"
     ]
    },
    {
     "name": "stdout",
     "output_type": "stream",
     "text": [
      "Top 10 influential 8-word groups and their impacts:\n",
      "Predicted bias: left\n",
      "Confidence: 99.57%\n"
     ]
    },
    {
     "name": "stderr",
     "output_type": "stream",
     "text": [
      "100%|██████████| 505/505 [00:48<00:00, 10.51it/s]\n"
     ]
    },
    {
     "name": "stdout",
     "output_type": "stream",
     "text": [
      "Top 10 influential 8-word groups and their impacts:\n",
      "Predicted bias: center\n",
      "Confidence: 95.91%\n"
     ]
    },
    {
     "name": "stderr",
     "output_type": "stream",
     "text": [
      "100%|██████████| 505/505 [00:48<00:00, 10.51it/s]\n"
     ]
    },
    {
     "name": "stdout",
     "output_type": "stream",
     "text": [
      "Top 10 influential 8-word groups and their impacts:\n",
      "Predicted bias: center\n",
      "Confidence: 99.65%\n"
     ]
    },
    {
     "name": "stderr",
     "output_type": "stream",
     "text": [
      "100%|██████████| 505/505 [00:47<00:00, 10.53it/s]\n"
     ]
    },
    {
     "name": "stdout",
     "output_type": "stream",
     "text": [
      "Top 10 influential 8-word groups and their impacts:\n",
      "Predicted bias: right\n",
      "Confidence: 98.86%\n"
     ]
    },
    {
     "name": "stderr",
     "output_type": "stream",
     "text": [
      "100%|██████████| 505/505 [00:48<00:00, 10.52it/s]\n"
     ]
    },
    {
     "name": "stdout",
     "output_type": "stream",
     "text": [
      "Top 10 influential 8-word groups and their impacts:\n",
      "Predicted bias: center\n",
      "Confidence: 97.95%\n"
     ]
    },
    {
     "name": "stderr",
     "output_type": "stream",
     "text": [
      "100%|██████████| 505/505 [00:48<00:00, 10.51it/s]\n"
     ]
    },
    {
     "name": "stdout",
     "output_type": "stream",
     "text": [
      "Top 10 influential 8-word groups and their impacts:\n",
      "Predicted bias: right\n",
      "Confidence: 99.30%\n"
     ]
    },
    {
     "name": "stderr",
     "output_type": "stream",
     "text": [
      "100%|██████████| 505/505 [00:48<00:00, 10.51it/s]\n"
     ]
    },
    {
     "name": "stdout",
     "output_type": "stream",
     "text": [
      "Top 10 influential 8-word groups and their impacts:\n",
      "Average Mean score for top three 8-grams across sampled articles: 3.1733773716290794\n",
      "Predicted bias: left\n",
      "Confidence: 99.63%\n"
     ]
    },
    {
     "name": "stderr",
     "output_type": "stream",
     "text": [
      "100%|██████████| 504/504 [00:47<00:00, 10.51it/s]\n"
     ]
    },
    {
     "name": "stdout",
     "output_type": "stream",
     "text": [
      "Top 10 influential 9-word groups and their impacts:\n",
      "Predicted bias: right\n",
      "Confidence: 99.45%\n"
     ]
    },
    {
     "name": "stderr",
     "output_type": "stream",
     "text": [
      "100%|██████████| 504/504 [00:47<00:00, 10.70it/s]\n"
     ]
    },
    {
     "name": "stdout",
     "output_type": "stream",
     "text": [
      "Top 10 influential 9-word groups and their impacts:\n",
      "Predicted bias: right\n",
      "Confidence: 90.21%\n"
     ]
    },
    {
     "name": "stderr",
     "output_type": "stream",
     "text": [
      "100%|██████████| 504/504 [00:46<00:00, 10.82it/s]\n"
     ]
    },
    {
     "name": "stdout",
     "output_type": "stream",
     "text": [
      "Top 10 influential 9-word groups and their impacts:\n",
      "Predicted bias: left\n",
      "Confidence: 99.87%\n"
     ]
    },
    {
     "name": "stderr",
     "output_type": "stream",
     "text": [
      "100%|██████████| 504/504 [00:46<00:00, 10.86it/s]\n"
     ]
    },
    {
     "name": "stdout",
     "output_type": "stream",
     "text": [
      "Top 10 influential 9-word groups and their impacts:\n",
      "Predicted bias: left\n",
      "Confidence: 99.84%\n"
     ]
    },
    {
     "name": "stderr",
     "output_type": "stream",
     "text": [
      "100%|██████████| 504/504 [00:45<00:00, 10.99it/s]\n"
     ]
    },
    {
     "name": "stdout",
     "output_type": "stream",
     "text": [
      "Top 10 influential 9-word groups and their impacts:\n",
      "Predicted bias: left\n",
      "Confidence: 99.83%\n"
     ]
    },
    {
     "name": "stderr",
     "output_type": "stream",
     "text": [
      "100%|██████████| 504/504 [00:46<00:00, 10.79it/s]\n"
     ]
    },
    {
     "name": "stdout",
     "output_type": "stream",
     "text": [
      "Top 10 influential 9-word groups and their impacts:\n",
      "Predicted bias: center\n",
      "Confidence: 99.34%\n"
     ]
    },
    {
     "name": "stderr",
     "output_type": "stream",
     "text": [
      "100%|██████████| 504/504 [00:47<00:00, 10.71it/s]\n"
     ]
    },
    {
     "name": "stdout",
     "output_type": "stream",
     "text": [
      "Top 10 influential 9-word groups and their impacts:\n",
      "Predicted bias: center\n",
      "Confidence: 99.14%\n"
     ]
    },
    {
     "name": "stderr",
     "output_type": "stream",
     "text": [
      "100%|██████████| 504/504 [00:47<00:00, 10.72it/s]\n"
     ]
    },
    {
     "name": "stdout",
     "output_type": "stream",
     "text": [
      "Top 10 influential 9-word groups and their impacts:\n",
      "Predicted bias: right\n",
      "Confidence: 98.42%\n"
     ]
    },
    {
     "name": "stderr",
     "output_type": "stream",
     "text": [
      "100%|██████████| 504/504 [00:47<00:00, 10.67it/s]\n"
     ]
    },
    {
     "name": "stdout",
     "output_type": "stream",
     "text": [
      "Top 10 influential 9-word groups and their impacts:\n",
      "Predicted bias: center\n",
      "Confidence: 99.59%\n"
     ]
    },
    {
     "name": "stderr",
     "output_type": "stream",
     "text": [
      "100%|██████████| 504/504 [00:46<00:00, 10.74it/s]\n"
     ]
    },
    {
     "name": "stdout",
     "output_type": "stream",
     "text": [
      "Top 10 influential 9-word groups and their impacts:\n",
      "Predicted bias: center\n",
      "Confidence: 99.76%\n"
     ]
    },
    {
     "name": "stderr",
     "output_type": "stream",
     "text": [
      "100%|██████████| 504/504 [00:46<00:00, 10.73it/s]\n"
     ]
    },
    {
     "name": "stdout",
     "output_type": "stream",
     "text": [
      "Top 10 influential 9-word groups and their impacts:\n",
      "Predicted bias: center\n",
      "Confidence: 78.39%\n"
     ]
    },
    {
     "name": "stderr",
     "output_type": "stream",
     "text": [
      "100%|██████████| 504/504 [00:47<00:00, 10.70it/s]\n"
     ]
    },
    {
     "name": "stdout",
     "output_type": "stream",
     "text": [
      "Top 10 influential 9-word groups and their impacts:\n",
      "Predicted bias: right\n",
      "Confidence: 99.54%\n"
     ]
    },
    {
     "name": "stderr",
     "output_type": "stream",
     "text": [
      "100%|██████████| 504/504 [00:47<00:00, 10.71it/s]\n"
     ]
    },
    {
     "name": "stdout",
     "output_type": "stream",
     "text": [
      "Top 10 influential 9-word groups and their impacts:\n",
      "Predicted bias: right\n",
      "Confidence: 99.57%\n"
     ]
    },
    {
     "name": "stderr",
     "output_type": "stream",
     "text": [
      "100%|██████████| 504/504 [00:47<00:00, 10.60it/s]\n"
     ]
    },
    {
     "name": "stdout",
     "output_type": "stream",
     "text": [
      "Top 10 influential 9-word groups and their impacts:\n",
      "Predicted bias: left\n",
      "Confidence: 99.75%\n"
     ]
    },
    {
     "name": "stderr",
     "output_type": "stream",
     "text": [
      "100%|██████████| 504/504 [00:48<00:00, 10.38it/s]\n"
     ]
    },
    {
     "name": "stdout",
     "output_type": "stream",
     "text": [
      "Top 10 influential 9-word groups and their impacts:\n",
      "Predicted bias: left\n",
      "Confidence: 85.77%\n"
     ]
    },
    {
     "name": "stderr",
     "output_type": "stream",
     "text": [
      "100%|██████████| 504/504 [00:48<00:00, 10.45it/s]\n"
     ]
    },
    {
     "name": "stdout",
     "output_type": "stream",
     "text": [
      "Top 10 influential 9-word groups and their impacts:\n",
      "Predicted bias: center\n",
      "Confidence: 99.70%\n"
     ]
    },
    {
     "name": "stderr",
     "output_type": "stream",
     "text": [
      "100%|██████████| 504/504 [00:47<00:00, 10.52it/s]\n"
     ]
    },
    {
     "name": "stdout",
     "output_type": "stream",
     "text": [
      "Top 10 influential 9-word groups and their impacts:\n",
      "Predicted bias: left\n",
      "Confidence: 65.37%\n"
     ]
    },
    {
     "name": "stderr",
     "output_type": "stream",
     "text": [
      "100%|██████████| 504/504 [00:47<00:00, 10.55it/s]\n"
     ]
    },
    {
     "name": "stdout",
     "output_type": "stream",
     "text": [
      "Top 10 influential 9-word groups and their impacts:\n",
      "Predicted bias: left\n",
      "Confidence: 94.74%\n"
     ]
    },
    {
     "name": "stderr",
     "output_type": "stream",
     "text": [
      "100%|██████████| 504/504 [00:47<00:00, 10.53it/s]\n"
     ]
    },
    {
     "name": "stdout",
     "output_type": "stream",
     "text": [
      "Top 10 influential 9-word groups and their impacts:\n",
      "Predicted bias: left\n",
      "Confidence: 99.57%\n"
     ]
    },
    {
     "name": "stderr",
     "output_type": "stream",
     "text": [
      "100%|██████████| 504/504 [00:47<00:00, 10.52it/s]\n"
     ]
    },
    {
     "name": "stdout",
     "output_type": "stream",
     "text": [
      "Top 10 influential 9-word groups and their impacts:\n",
      "Predicted bias: center\n",
      "Confidence: 95.91%\n"
     ]
    },
    {
     "name": "stderr",
     "output_type": "stream",
     "text": [
      "100%|██████████| 504/504 [00:47<00:00, 10.59it/s]\n"
     ]
    },
    {
     "name": "stdout",
     "output_type": "stream",
     "text": [
      "Top 10 influential 9-word groups and their impacts:\n",
      "Predicted bias: center\n",
      "Confidence: 99.65%\n"
     ]
    },
    {
     "name": "stderr",
     "output_type": "stream",
     "text": [
      "100%|██████████| 504/504 [00:48<00:00, 10.39it/s]\n"
     ]
    },
    {
     "name": "stdout",
     "output_type": "stream",
     "text": [
      "Top 10 influential 9-word groups and their impacts:\n",
      "Predicted bias: right\n",
      "Confidence: 98.86%\n"
     ]
    },
    {
     "name": "stderr",
     "output_type": "stream",
     "text": [
      "100%|██████████| 504/504 [00:49<00:00, 10.28it/s]\n"
     ]
    },
    {
     "name": "stdout",
     "output_type": "stream",
     "text": [
      "Top 10 influential 9-word groups and their impacts:\n",
      "Predicted bias: center\n",
      "Confidence: 97.95%\n"
     ]
    },
    {
     "name": "stderr",
     "output_type": "stream",
     "text": [
      "100%|██████████| 504/504 [00:49<00:00, 10.25it/s]\n"
     ]
    },
    {
     "name": "stdout",
     "output_type": "stream",
     "text": [
      "Top 10 influential 9-word groups and their impacts:\n",
      "Predicted bias: right\n",
      "Confidence: 99.30%\n"
     ]
    },
    {
     "name": "stderr",
     "output_type": "stream",
     "text": [
      "100%|██████████| 504/504 [00:49<00:00, 10.21it/s]\n"
     ]
    },
    {
     "name": "stdout",
     "output_type": "stream",
     "text": [
      "Top 10 influential 9-word groups and their impacts:\n",
      "Average Mean score for top three 9-grams across sampled articles: 3.1947219163179397\n",
      "Predicted bias: left\n",
      "Confidence: 99.63%\n"
     ]
    },
    {
     "name": "stderr",
     "output_type": "stream",
     "text": [
      "100%|██████████| 503/503 [00:49<00:00, 10.18it/s]\n"
     ]
    },
    {
     "name": "stdout",
     "output_type": "stream",
     "text": [
      "Top 10 influential 10-word groups and their impacts:\n",
      "Predicted bias: right\n",
      "Confidence: 99.45%\n"
     ]
    },
    {
     "name": "stderr",
     "output_type": "stream",
     "text": [
      "100%|██████████| 503/503 [00:49<00:00, 10.17it/s]\n"
     ]
    },
    {
     "name": "stdout",
     "output_type": "stream",
     "text": [
      "Top 10 influential 10-word groups and their impacts:\n",
      "Predicted bias: right\n",
      "Confidence: 90.21%\n"
     ]
    },
    {
     "name": "stderr",
     "output_type": "stream",
     "text": [
      "100%|██████████| 503/503 [00:49<00:00, 10.13it/s]\n"
     ]
    },
    {
     "name": "stdout",
     "output_type": "stream",
     "text": [
      "Top 10 influential 10-word groups and their impacts:\n",
      "Predicted bias: left\n",
      "Confidence: 99.87%\n"
     ]
    },
    {
     "name": "stderr",
     "output_type": "stream",
     "text": [
      "100%|██████████| 503/503 [00:49<00:00, 10.14it/s]\n"
     ]
    },
    {
     "name": "stdout",
     "output_type": "stream",
     "text": [
      "Top 10 influential 10-word groups and their impacts:\n",
      "Predicted bias: left\n",
      "Confidence: 99.84%\n"
     ]
    },
    {
     "name": "stderr",
     "output_type": "stream",
     "text": [
      "100%|██████████| 503/503 [00:49<00:00, 10.12it/s]\n"
     ]
    },
    {
     "name": "stdout",
     "output_type": "stream",
     "text": [
      "Top 10 influential 10-word groups and their impacts:\n",
      "Predicted bias: left\n",
      "Confidence: 99.83%\n"
     ]
    },
    {
     "name": "stderr",
     "output_type": "stream",
     "text": [
      "100%|██████████| 503/503 [00:49<00:00, 10.16it/s]\n"
     ]
    },
    {
     "name": "stdout",
     "output_type": "stream",
     "text": [
      "Top 10 influential 10-word groups and their impacts:\n",
      "Predicted bias: center\n",
      "Confidence: 99.34%\n"
     ]
    },
    {
     "name": "stderr",
     "output_type": "stream",
     "text": [
      "100%|██████████| 503/503 [00:48<00:00, 10.34it/s]\n"
     ]
    },
    {
     "name": "stdout",
     "output_type": "stream",
     "text": [
      "Top 10 influential 10-word groups and their impacts:\n",
      "Predicted bias: center\n",
      "Confidence: 99.14%\n"
     ]
    },
    {
     "name": "stderr",
     "output_type": "stream",
     "text": [
      "100%|██████████| 503/503 [00:48<00:00, 10.40it/s]\n"
     ]
    },
    {
     "name": "stdout",
     "output_type": "stream",
     "text": [
      "Top 10 influential 10-word groups and their impacts:\n",
      "Predicted bias: right\n",
      "Confidence: 98.42%\n"
     ]
    },
    {
     "name": "stderr",
     "output_type": "stream",
     "text": [
      "100%|██████████| 503/503 [00:48<00:00, 10.40it/s]\n"
     ]
    },
    {
     "name": "stdout",
     "output_type": "stream",
     "text": [
      "Top 10 influential 10-word groups and their impacts:\n",
      "Predicted bias: center\n",
      "Confidence: 99.59%\n"
     ]
    },
    {
     "name": "stderr",
     "output_type": "stream",
     "text": [
      "100%|██████████| 503/503 [00:49<00:00, 10.23it/s]\n"
     ]
    },
    {
     "name": "stdout",
     "output_type": "stream",
     "text": [
      "Top 10 influential 10-word groups and their impacts:\n",
      "Predicted bias: center\n",
      "Confidence: 99.76%\n"
     ]
    },
    {
     "name": "stderr",
     "output_type": "stream",
     "text": [
      "100%|██████████| 503/503 [00:49<00:00, 10.16it/s]\n"
     ]
    },
    {
     "name": "stdout",
     "output_type": "stream",
     "text": [
      "Top 10 influential 10-word groups and their impacts:\n",
      "Predicted bias: center\n",
      "Confidence: 78.39%\n"
     ]
    },
    {
     "name": "stderr",
     "output_type": "stream",
     "text": [
      "100%|██████████| 503/503 [00:49<00:00, 10.11it/s]\n"
     ]
    },
    {
     "name": "stdout",
     "output_type": "stream",
     "text": [
      "Top 10 influential 10-word groups and their impacts:\n",
      "Predicted bias: right\n",
      "Confidence: 99.54%\n"
     ]
    },
    {
     "name": "stderr",
     "output_type": "stream",
     "text": [
      "100%|██████████| 503/503 [00:49<00:00, 10.11it/s]\n"
     ]
    },
    {
     "name": "stdout",
     "output_type": "stream",
     "text": [
      "Top 10 influential 10-word groups and their impacts:\n",
      "Predicted bias: right\n",
      "Confidence: 99.57%\n"
     ]
    },
    {
     "name": "stderr",
     "output_type": "stream",
     "text": [
      "100%|██████████| 503/503 [00:49<00:00, 10.10it/s]\n"
     ]
    },
    {
     "name": "stdout",
     "output_type": "stream",
     "text": [
      "Top 10 influential 10-word groups and their impacts:\n",
      "Predicted bias: left\n",
      "Confidence: 99.75%\n"
     ]
    },
    {
     "name": "stderr",
     "output_type": "stream",
     "text": [
      "100%|██████████| 503/503 [00:49<00:00, 10.23it/s]\n"
     ]
    },
    {
     "name": "stdout",
     "output_type": "stream",
     "text": [
      "Top 10 influential 10-word groups and their impacts:\n",
      "Predicted bias: left\n",
      "Confidence: 85.77%\n"
     ]
    },
    {
     "name": "stderr",
     "output_type": "stream",
     "text": [
      "100%|██████████| 503/503 [00:48<00:00, 10.30it/s]\n"
     ]
    },
    {
     "name": "stdout",
     "output_type": "stream",
     "text": [
      "Top 10 influential 10-word groups and their impacts:\n",
      "Predicted bias: center\n",
      "Confidence: 99.70%\n"
     ]
    },
    {
     "name": "stderr",
     "output_type": "stream",
     "text": [
      "100%|██████████| 503/503 [00:49<00:00, 10.25it/s]\n"
     ]
    },
    {
     "name": "stdout",
     "output_type": "stream",
     "text": [
      "Top 10 influential 10-word groups and their impacts:\n",
      "Predicted bias: left\n",
      "Confidence: 65.37%\n"
     ]
    },
    {
     "name": "stderr",
     "output_type": "stream",
     "text": [
      "100%|██████████| 503/503 [00:48<00:00, 10.42it/s]\n"
     ]
    },
    {
     "name": "stdout",
     "output_type": "stream",
     "text": [
      "Top 10 influential 10-word groups and their impacts:\n",
      "Predicted bias: left\n",
      "Confidence: 94.74%\n"
     ]
    },
    {
     "name": "stderr",
     "output_type": "stream",
     "text": [
      "100%|██████████| 503/503 [00:48<00:00, 10.36it/s]\n"
     ]
    },
    {
     "name": "stdout",
     "output_type": "stream",
     "text": [
      "Top 10 influential 10-word groups and their impacts:\n",
      "Predicted bias: left\n",
      "Confidence: 99.57%\n"
     ]
    },
    {
     "name": "stderr",
     "output_type": "stream",
     "text": [
      "100%|██████████| 503/503 [00:48<00:00, 10.41it/s]\n"
     ]
    },
    {
     "name": "stdout",
     "output_type": "stream",
     "text": [
      "Top 10 influential 10-word groups and their impacts:\n",
      "Predicted bias: center\n",
      "Confidence: 95.91%\n"
     ]
    },
    {
     "name": "stderr",
     "output_type": "stream",
     "text": [
      "100%|██████████| 503/503 [00:47<00:00, 10.52it/s]\n"
     ]
    },
    {
     "name": "stdout",
     "output_type": "stream",
     "text": [
      "Top 10 influential 10-word groups and their impacts:\n",
      "Predicted bias: center\n",
      "Confidence: 99.65%\n"
     ]
    },
    {
     "name": "stderr",
     "output_type": "stream",
     "text": [
      "100%|██████████| 503/503 [00:48<00:00, 10.46it/s]\n"
     ]
    },
    {
     "name": "stdout",
     "output_type": "stream",
     "text": [
      "Top 10 influential 10-word groups and their impacts:\n",
      "Predicted bias: right\n",
      "Confidence: 98.86%\n"
     ]
    },
    {
     "name": "stderr",
     "output_type": "stream",
     "text": [
      "100%|██████████| 503/503 [00:30<00:00, 16.65it/s]\n"
     ]
    },
    {
     "name": "stdout",
     "output_type": "stream",
     "text": [
      "Top 10 influential 10-word groups and their impacts:\n",
      "Predicted bias: center\n",
      "Confidence: 97.95%\n"
     ]
    },
    {
     "name": "stderr",
     "output_type": "stream",
     "text": [
      "100%|██████████| 503/503 [00:15<00:00, 32.71it/s]\n"
     ]
    },
    {
     "name": "stdout",
     "output_type": "stream",
     "text": [
      "Top 10 influential 10-word groups and their impacts:\n",
      "Predicted bias: right\n",
      "Confidence: 99.30%\n"
     ]
    },
    {
     "name": "stderr",
     "output_type": "stream",
     "text": [
      "100%|██████████| 503/503 [00:15<00:00, 32.66it/s]"
     ]
    },
    {
     "name": "stdout",
     "output_type": "stream",
     "text": [
      "Top 10 influential 10-word groups and their impacts:\n",
      "Average Mean score for top three 10-grams across sampled articles: 3.215998089313507\n",
      "Average means across articles: [1.8513899840414525, 2.4448318495353063, 2.7188157930970194, 2.9368393133083974, 3.0339577158292133, 3.1152871307730674, 3.1337921974062914, 3.1733773716290794, 3.1947219163179397, 3.215998089313507]\n"
     ]
    },
    {
     "name": "stderr",
     "output_type": "stream",
     "text": [
      "\n"
     ]
    }
   ],
   "source": [
    "import json\n",
    "import random\n",
    "\n",
    "with open(\"unseen_filtered_data.json\", \"r\") as file:\n",
    "    data = json.load(file)\n",
    "\n",
    "all_contents = [item['content'] for item in data]\n",
    "print(\"Total articles:\", len(all_contents))\n",
    "\n",
    "contents = random.sample(all_contents, 25)\n",
    "print(\"Number of sampled articles:\", len(contents))\n",
    "\n",
    "means_top_3_list = []\n",
    "\n",
    "for n in range(1, 11):\n",
    "    mean_scores = []\n",
    "\n",
    "    for content in contents:\n",
    "        influential_phrases = erasure_method(model, tokenizer, device, content, n_grams=n)\n",
    "\n",
    "        top_three_scores = [score for _, score in influential_phrases[:3]]\n",
    "\n",
    "        mean_score = sum(top_three_scores) / len(top_three_scores) if top_three_scores else 0\n",
    "        mean_scores.append(mean_score)\n",
    "\n",
    "        overall_mean = sum(mean_scores) / len(mean_scores)\n",
    "\n",
    "    means_top_3_list.append(overall_mean)\n",
    "\n",
    "    print(f\"Average Mean score for top three {n}-grams across sampled articles: {overall_mean}\")\n",
    "\n",
    "print(\"Average means across articles:\", means_top_3_list)"
   ]
  },
  {
   "cell_type": "code",
   "execution_count": 20,
   "metadata": {},
   "outputs": [
    {
     "data": {
      "image/png": "[encoded data removed]",
      "text/plain": [
       "<Figure size 1200x850 with 1 Axes>"
      ]
     },
     "metadata": {},
     "output_type": "display_data"
    }
   ],
   "source": [
    "sns.set()\n",
    "plt.figure(figsize=(12, 8.5))\n",
    "plt.plot(range(1, 11), means_top_3_list, marker='o', linestyle='-', lw=2.5)\n",
    "plt.title(\"Mean Impact Score of Top 3 Phrases vs. $n$-Gram Size\")\n",
    "plt.xlabel(\"$n$-Gram Size\", fontsize=14)\n",
    "plt.ylabel(\"Mean Impact Score\", fontsize=14)\n",
    "#plt.grid(True)\n",
    "plt.xticks(range(1, 11))\n",
    "plt.show()"
   ]
  },
  {
   "cell_type": "code",
   "execution_count": null,
   "metadata": {},
   "outputs": [],
   "source": []
  }
 ],
 "metadata": {
  "kernelspec": {
   "display_name": "Python 3",
   "language": "python",
   "name": "python3"
  },
  "language_info": {
   "codemirror_mode": {
    "name": "ipython",
    "version": 3
   },
   "file_extension": ".py",
   "mimetype": "text/x-python",
   "name": "python",
   "nbconvert_exporter": "python",
   "pygments_lexer": "ipython3",
   "version": "3.10.10"
  }
 },
 "nbformat": 4,
 "nbformat_minor": 2
}
